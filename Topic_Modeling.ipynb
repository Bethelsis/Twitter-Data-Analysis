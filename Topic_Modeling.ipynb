{
 "cells": [
  {
   "cell_type": "code",
   "execution_count": null,
   "metadata": {
    "id": "8L1nukvpOEqn"
   },
   "outputs": [],
   "source": [
    "import pandas as pd\n",
    "import numpy as np\n",
    "import matplotlib.pyplot as plt"
   ]
  },
  {
   "cell_type": "code",
   "execution_count": null,
   "metadata": {
    "id": "UMS5hPkEOI9i"
   },
   "outputs": [],
   "source": [
    "df = pd.read_csv(\"./clean_processed_tweet_data.csv\")"
   ]
  },
  {
   "cell_type": "code",
   "execution_count": null,
   "metadata": {
    "id": "rnKkUwxvOLPt"
   },
   "outputs": [],
   "source": [
    "Clean_Tweet = df[['original_text','polarity']]"
   ]
  },
  {
   "cell_type": "code",
   "execution_count": null,
   "metadata": {
    "id": "r0YjWJCyONpr"
   },
   "outputs": [],
   "source": [
    "def text_category (p):\n",
    "  if p > 0:\n",
    "    return 'positive'\n",
    "  elif p < 0:\n",
    "    return 'negative'\n",
    "  else:\n",
    "    return 'neutral'"
   ]
  },
  {
   "cell_type": "code",
   "execution_count": null,
   "metadata": {
    "colab": {
     "base_uri": "https://localhost:8080/",
     "height": 328
    },
    "id": "RLL1AQ8iOPLR",
    "outputId": "36a38ede-6a95-4dfd-d15a-c1d6197b0cf5"
   },
   "outputs": [],
   "source": [
    "score = pd.Series([text_category(val) for val in Clean_Tweet['polarity']])\n",
    "Clean_Tweet = pd.concat([Clean_Tweet, score.rename(\"score\")], axis=1)\n",
    "\n",
    "labels = ['neutral', 'positive', 'negative']\n",
    "positive = len(Clean_Tweet[Clean_Tweet['score'] == \"positive\"])\n",
    "negative = len(Clean_Tweet[Clean_Tweet['score'] == \"negative\"])\n",
    "neutral = len(Clean_Tweet[Clean_Tweet['score'] == \"neutral\"])\n",
    "\n",
    "\n",
    "fig, ax = plt.subplots(1, 1, figsize = (10,4))\n",
    "\n",
    "\n",
    "ax.bar(x=labels, height=[negative, positive, neutral], color='red')\n",
    "ax.set_title('Barchart of score column')\n",
    "ax.set_xticklabels(labels, rotation=90)\n",
    "\n",
    "\n",
    "fig.suptitle('Score column plots')\n",
    "\n",
    "\n",
    "fig.show()"
   ]
  },
  {
   "cell_type": "code",
   "execution_count": null,
   "metadata": {
    "id": "j3kPNt5WOTKp"
   },
   "outputs": [],
   "source": [
    "Clean_Tweet = Clean_Tweet.drop(Clean_Tweet[Clean_Tweet.score == 'neutral'].index)\n",
    "scoremap = pd.Series([1 if val == 'positive' else 0 for val in Clean_Tweet['score']])\n",
    "Clean_Tweet['scoremap'] = scoremap"
   ]
  },
  {
   "cell_type": "code",
   "execution_count": null,
   "metadata": {
    "colab": {
     "base_uri": "https://localhost:8080/",
     "height": 295
    },
    "id": "_fq5uOoGOVF1",
    "outputId": "ac132a31-bcd0-435c-99e4-256fdb377c84"
   },
   "outputs": [],
   "source": [
    "fig=plt.figure()\n",
    "ax = fig.add_subplot(1,1,1)\n",
    "ax.hist(Clean_Tweet['scoremap'],bins = 5,color='red')\n",
    "plt.title('Tweet distribution')\n",
    "plt.xlabel('Sentiment')\n",
    "plt.ylabel('Analysis')\n",
    "plt.show()"
   ]
  },
  {
   "cell_type": "code",
   "execution_count": null,
   "metadata": {
    "id": "_IispwFjOdxU"
   },
   "outputs": [],
   "source": [
    "import re\n",
    "import string\n",
    "import spacy\n",
    "import gensim\n",
    "from gensim import corpora\n",
    "import pyLDAvis\n",
    "import pyLDAvis.gensim_models as gensimvis\n",
    "import matplotlib.pyplot as plt\n",
    "import seaborn as sns"
   ]
  },
  {
   "cell_type": "code",
   "execution_count": null,
   "metadata": {
    "id": "0xsn7HTkQntc"
   },
   "outputs": [],
   "source": [
    "Clean_Tweet['original_text']=Clean_Tweet['original_text'].astype(str)\n",
    "Clean_Tweet['original_text'] = Clean_Tweet['original_text'].apply(lambda x: x.lower())\n",
    "Clean_Tweet['original_text']= Clean_Tweet['original_text'].apply(lambda x: x.translate(str.maketrans(' ', ' ', string.punctuation)))"
   ]
  },
  {
   "cell_type": "code",
   "execution_count": null,
   "metadata": {
    "colab": {
     "base_uri": "https://localhost:8080/"
    },
    "id": "SRJgEkIFQrY9",
    "outputId": "b90d6480-cc2b-4452-d579-552e19fed061"
   },
   "outputs": [],
   "source": [
    "from nltk.corpus import stopwords\n",
    "import nltk\n",
    "import pyLDAvis.gensim_models as gensimvis\n",
    "import pickle \n",
    "import pyLDAvis\n",
    "from gensim.models.coherencemodel import CoherenceModel\n"
   ]
  },
  {
   "cell_type": "code",
   "execution_count": null,
   "metadata": {},
   "outputs": [],
   "source": [
    "nltk.download('stopwords')\n",
    "stop_words = stopwords.words('english')"
   ]
  },
  {
   "cell_type": "code",
   "execution_count": null,
   "metadata": {
    "id": "YBMzrn2yRBgL"
   },
   "outputs": [],
   "source": [
    "def remove_stopwords(text):\n",
    "    textArr = text.split(' ')\n",
    "    rem_text = \" \".join([i for i in textArr if i not in stop_words])\n",
    "    return rem_text"
   ]
  },
  {
   "cell_type": "code",
   "execution_count": null,
   "metadata": {
    "id": "SoVLbdUSRFna"
   },
   "outputs": [],
   "source": [
    "Clean_Tweet['original_text']=Clean_Tweet['original_text'].apply(remove_stopwords)"
   ]
  },
  {
   "cell_type": "code",
   "execution_count": null,
   "metadata": {
    "colab": {
     "base_uri": "https://localhost:8080/"
    },
    "id": "PrJO8RcqOyxB",
    "outputId": "09b81c25-7e86-4b99-b1d6-55242175c00c"
   },
   "outputs": [],
   "source": [
    "nlp = spacy.load('en_core_web_md', disable=['parser', 'ner'])\n",
    "\n",
    "def lemmatization(texts,allowed_postags=['NOUN', 'ADJ']): \n",
    "       output = []\n",
    "       for sent in texts:\n",
    "             doc = nlp(sent) \n",
    "             output.append([token.lemma_ for token in doc if token.pos_ in allowed_postags ])\n",
    "       return output"
   ]
  },
  {
   "cell_type": "code",
   "execution_count": null,
   "metadata": {
    "id": "FIewsXQZO5CP"
   },
   "outputs": [],
   "source": [
    "text_list=Clean_Tweet['original_text'].tolist()\n",
    "tokenized_reviews = lemmatization(text_list)"
   ]
  },
  {
   "cell_type": "code",
   "execution_count": null,
   "metadata": {
    "id": "yvDkXYqLPFbg"
   },
   "outputs": [],
   "source": [
    "dictionary = corpora.Dictionary(tokenized_reviews)\n",
    "doc_term_matrix = [dictionary.doc2bow(rev) for rev in tokenized_reviews]"
   ]
  },
  {
   "cell_type": "code",
   "execution_count": null,
   "metadata": {
    "id": "x5Z-V1CYPHFq"
   },
   "outputs": [],
   "source": [
    "LDA = gensim.models.ldamodel.LdaModel\n",
    "lda_model = LDA(corpus=doc_term_matrix, id2word=dictionary, num_topics=5, random_state=100,\n",
    "                chunksize=500, passes=50,iterations=100)"
   ]
  },
  {
   "cell_type": "code",
   "execution_count": null,
   "metadata": {
    "colab": {
     "base_uri": "https://localhost:8080/"
    },
    "id": "lAGZoTU5PH0w",
    "outputId": "f0d046e8-57c4-4813-9889-de4f35987cb0"
   },
   "outputs": [],
   "source": [
    "lda_model.print_topics()"
   ]
  },
  {
   "cell_type": "code",
   "execution_count": null,
   "metadata": {
    "colab": {
     "base_uri": "https://localhost:8080/",
     "height": 881
    },
    "id": "h0hldQnOPKyJ",
    "outputId": "c6e013f6-7372-4cce-daa6-d991a07cb5a7"
   },
   "outputs": [],
   "source": [
    "pyLDAvis.enable_notebook()\n",
    "LDAvis_prepared = gensimvis.prepare(lda_model, doc_term_matrix, dictionary)\n",
    "LDAvis_prepared"
   ]
  },
  {
   "cell_type": "code",
   "execution_count": null,
   "metadata": {
    "colab": {
     "base_uri": "https://localhost:8080/"
    },
    "id": "dF_rzJYJPPYd",
    "outputId": "286856bc-b153-48fe-959f-9562c0f1628f"
   },
   "outputs": [],
   "source": [
    "print('\\nPerplexity: ', lda_model.log_perplexity(doc_term_matrix,total_docs=10000)) \n",
    "coherence_model_lda = CoherenceModel(model=lda_model, texts=tokenized_reviews, dictionary=dictionary , coherence='c_v')\n",
    "coherence_lda = coherence_model_lda.get_coherence()\n",
    "print('\\nCoherence Score: ', coherence_lda)"
   ]
  }
 ],
 "metadata": {
  "colab": {
   "name": "topic_modeling.ipynb",
   "provenance": []
  },
  "kernelspec": {
   "display_name": "Python 3",
   "language": "python",
   "name": "python3"
  },
  "language_info": {
   "codemirror_mode": {
    "name": "ipython",
    "version": 3
   },
   "file_extension": ".py",
   "mimetype": "text/x-python",
   "name": "python",
   "nbconvert_exporter": "python",
   "pygments_lexer": "ipython3",
   "version": "3.8.5"
  }
 },
 "nbformat": 4,
 "nbformat_minor": 1
}
