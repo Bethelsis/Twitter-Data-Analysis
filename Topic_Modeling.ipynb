{
 "cells": [
  {
   "cell_type": "code",
   "execution_count": 1,
   "metadata": {
    "id": "8L1nukvpOEqn"
   },
   "outputs": [],
   "source": [
    "import pandas as pd\n",
    "import numpy as np\n",
    "import matplotlib.pyplot as plt"
   ]
  },
  {
   "cell_type": "code",
   "execution_count": 2,
   "metadata": {
    "id": "UMS5hPkEOI9i"
   },
   "outputs": [],
   "source": [
    "df = pd.read_csv(\"./clean_processed_tweet_data.csv\")"
   ]
  },
  {
   "cell_type": "code",
   "execution_count": 3,
   "metadata": {
    "id": "rnKkUwxvOLPt"
   },
   "outputs": [],
   "source": [
    "Clean_Tweet = df[['original_text','polarity']]"
   ]
  },
  {
   "cell_type": "code",
   "execution_count": 4,
   "metadata": {
    "id": "r0YjWJCyONpr"
   },
   "outputs": [],
   "source": [
    "def text_category (p):\n",
    "  if p > 0:\n",
    "    return 'positive'\n",
    "  elif p < 0:\n",
    "    return 'negative'\n",
    "  else:\n",
    "    return 'neutral'"
   ]
  },
  {
   "cell_type": "code",
   "execution_count": 5,
   "metadata": {
    "colab": {
     "base_uri": "https://localhost:8080/",
     "height": 328
    },
    "id": "RLL1AQ8iOPLR",
    "outputId": "36a38ede-6a95-4dfd-d15a-c1d6197b0cf5"
   },
   "outputs": [
    {
     "name": "stderr",
     "output_type": "stream",
     "text": [
      "<ipython-input-5-ac2e879d87c2>:15: UserWarning: FixedFormatter should only be used together with FixedLocator\n",
      "  ax.set_xticklabels(labels)\n",
      "<ipython-input-5-ac2e879d87c2>:21: UserWarning: Matplotlib is currently using module://ipykernel.pylab.backend_inline, which is a non-GUI backend, so cannot show the figure.\n",
      "  fig.show()\n"
     ]
    },
    {
     "data": {
      "image/png": "[encoded data removed]",
      "text/plain": [
       "<Figure size 720x288 with 1 Axes>"
      ]
     },
     "metadata": {
      "needs_background": "light"
     },
     "output_type": "display_data"
    }
   ],
   "source": [
    "score = pd.Series([text_category(val) for val in Clean_Tweet['polarity']])\n",
    "Clean_Tweet = pd.concat([Clean_Tweet, score.rename(\"score\")], axis=1)\n",
    "\n",
    "labels = ['neutral', 'positive', 'negative']\n",
    "positive = len(Clean_Tweet[Clean_Tweet['score'] == \"positive\"])\n",
    "negative = len(Clean_Tweet[Clean_Tweet['score'] == \"negative\"])\n",
    "neutral = len(Clean_Tweet[Clean_Tweet['score'] == \"neutral\"])\n",
    "\n",
    "\n",
    "fig, ax = plt.subplots(1, 1, figsize = (10,4))\n",
    "\n",
    "\n",
    "ax.bar(x=labels, height=[negative, positive, neutral], color='red')\n",
    "ax.set_title('Barchart of score column')\n",
    "ax.set_xticklabels(labels)\n",
    "\n",
    "\n",
    "fig.suptitle('Score column plots')\n",
    "\n",
    "\n",
    "fig.show()"
   ]
  },
  {
   "cell_type": "code",
   "execution_count": 6,
   "metadata": {
    "id": "j3kPNt5WOTKp"
   },
   "outputs": [],
   "source": [
    "Clean_Tweet = Clean_Tweet.drop(Clean_Tweet[Clean_Tweet.score == 'neutral'].index)\n",
    "scoremap = pd.Series([1 if val == 'positive' else 0 for val in Clean_Tweet['score']])\n",
    "Clean_Tweet['scoremap'] = scoremap"
   ]
  },
  {
   "cell_type": "code",
   "execution_count": 7,
   "metadata": {
    "colab": {
     "base_uri": "https://localhost:8080/",
     "height": 295
    },
    "id": "_fq5uOoGOVF1",
    "outputId": "ac132a31-bcd0-435c-99e4-256fdb377c84"
   },
   "outputs": [
    {
     "data": {
      "image/png": "[encoded data removed]",
      "text/plain": [
       "<Figure size 432x288 with 1 Axes>"
      ]
     },
     "metadata": {
      "needs_background": "light"
     },
     "output_type": "display_data"
    }
   ],
   "source": [
    "fig=plt.figure()\n",
    "ax = fig.add_subplot(1,1,1)\n",
    "ax.hist(Clean_Tweet['scoremap'],bins = 5,color='red')\n",
    "plt.title('Tweet distribution')\n",
    "plt.xlabel('Sentiment')\n",
    "plt.ylabel('Analysis')\n",
    "plt.show()"
   ]
  },
  {
   "cell_type": "code",
   "execution_count": 8,
   "metadata": {
    "id": "_IispwFjOdxU"
   },
   "outputs": [
    {
     "name": "stderr",
     "output_type": "stream",
     "text": [
      "/home/bethelhem/anaconda3/lib/python3.8/site-packages/gensim/similarities/__init__.py:15: UserWarning: The gensim.similarities.levenshtein submodule is disabled, because the optional Levenshtein package <https://pypi.org/project/python-Levenshtein/> is unavailable. Install Levenhstein (e.g. `pip install python-Levenshtein`) to suppress this warning.\n",
      "  warnings.warn(msg)\n"
     ]
    }
   ],
   "source": [
    "import re\n",
    "import string\n",
    "import spacy\n",
    "import gensim\n",
    "from gensim import corpora\n",
    "import pyLDAvis\n",
    "import pyLDAvis.gensim_models as gensimvis\n",
    "import matplotlib.pyplot as plt\n",
    "import seaborn as sns"
   ]
  },
  {
   "cell_type": "code",
   "execution_count": 9,
   "metadata": {
    "id": "0xsn7HTkQntc"
   },
   "outputs": [
    {
     "name": "stderr",
     "output_type": "stream",
     "text": [
      "/home/bethelhem/.local/lib/python3.8/site-packages/ipykernel/ipkernel.py:283: DeprecationWarning: `should_run_async` will not call `transform_cell` automatically in the future. Please pass the result to `transformed_cell` argument and any exception that happen during thetransform in `preprocessing_exc_tuple` in IPython 7.17 and above.\n",
      "  and should_run_async(code)\n"
     ]
    }
   ],
   "source": [
    "Clean_Tweet['original_text']=Clean_Tweet['original_text'].astype(str)\n",
    "Clean_Tweet['original_text'] = Clean_Tweet['original_text'].apply(lambda x: x.lower())\n",
    "Clean_Tweet['original_text']= Clean_Tweet['original_text'].apply(lambda x: x.translate(str.maketrans(' ', ' ', string.punctuation)))"
   ]
  },
  {
   "cell_type": "code",
   "execution_count": 10,
   "metadata": {
    "colab": {
     "base_uri": "https://localhost:8080/"
    },
    "id": "SRJgEkIFQrY9",
    "outputId": "b90d6480-cc2b-4452-d579-552e19fed061"
   },
   "outputs": [
    {
     "name": "stderr",
     "output_type": "stream",
     "text": [
      "/home/bethelhem/.local/lib/python3.8/site-packages/ipykernel/ipkernel.py:283: DeprecationWarning: `should_run_async` will not call `transform_cell` automatically in the future. Please pass the result to `transformed_cell` argument and any exception that happen during thetransform in `preprocessing_exc_tuple` in IPython 7.17 and above.\n",
      "  and should_run_async(code)\n"
     ]
    }
   ],
   "source": [
    "from nltk.corpus import stopwords\n",
    "import nltk\n",
    "import pyLDAvis.gensim_models as gensimvis\n",
    "import pickle \n",
    "import pyLDAvis\n",
    "from gensim.models.coherencemodel import CoherenceModel\n"
   ]
  },
  {
   "cell_type": "code",
   "execution_count": 11,
   "metadata": {},
   "outputs": [
    {
     "name": "stderr",
     "output_type": "stream",
     "text": [
      "/home/bethelhem/.local/lib/python3.8/site-packages/ipykernel/ipkernel.py:283: DeprecationWarning: `should_run_async` will not call `transform_cell` automatically in the future. Please pass the result to `transformed_cell` argument and any exception that happen during thetransform in `preprocessing_exc_tuple` in IPython 7.17 and above.\n",
      "  and should_run_async(code)\n",
      "[nltk_data] Downloading package stopwords to\n",
      "[nltk_data]     /home/bethelhem/nltk_data...\n",
      "[nltk_data]   Package stopwords is already up-to-date!\n"
     ]
    }
   ],
   "source": [
    "nltk.download('stopwords')\n",
    "stop_words = stopwords.words('english')"
   ]
  },
  {
   "cell_type": "code",
   "execution_count": 12,
   "metadata": {
    "id": "YBMzrn2yRBgL"
   },
   "outputs": [
    {
     "name": "stderr",
     "output_type": "stream",
     "text": [
      "/home/bethelhem/.local/lib/python3.8/site-packages/ipykernel/ipkernel.py:283: DeprecationWarning: `should_run_async` will not call `transform_cell` automatically in the future. Please pass the result to `transformed_cell` argument and any exception that happen during thetransform in `preprocessing_exc_tuple` in IPython 7.17 and above.\n",
      "  and should_run_async(code)\n"
     ]
    }
   ],
   "source": [
    "def remove_stopwords(text):\n",
    "    textArr = text.split(' ')\n",
    "    rem_text = \" \".join([i for i in textArr if i not in stop_words])\n",
    "    return rem_text"
   ]
  },
  {
   "cell_type": "code",
   "execution_count": 13,
   "metadata": {
    "id": "SoVLbdUSRFna"
   },
   "outputs": [
    {
     "name": "stderr",
     "output_type": "stream",
     "text": [
      "/home/bethelhem/.local/lib/python3.8/site-packages/ipykernel/ipkernel.py:283: DeprecationWarning: `should_run_async` will not call `transform_cell` automatically in the future. Please pass the result to `transformed_cell` argument and any exception that happen during thetransform in `preprocessing_exc_tuple` in IPython 7.17 and above.\n",
      "  and should_run_async(code)\n"
     ]
    }
   ],
   "source": [
    "Clean_Tweet['original_text']=Clean_Tweet['original_text'].apply(remove_stopwords)"
   ]
  },
  {
   "cell_type": "code",
   "execution_count": 14,
   "metadata": {
    "colab": {
     "base_uri": "https://localhost:8080/"
    },
    "id": "PrJO8RcqOyxB",
    "outputId": "09b81c25-7e86-4b99-b1d6-55242175c00c"
   },
   "outputs": [
    {
     "name": "stderr",
     "output_type": "stream",
     "text": [
      "/home/bethelhem/.local/lib/python3.8/site-packages/ipykernel/ipkernel.py:283: DeprecationWarning: `should_run_async` will not call `transform_cell` automatically in the future. Please pass the result to `transformed_cell` argument and any exception that happen during thetransform in `preprocessing_exc_tuple` in IPython 7.17 and above.\n",
      "  and should_run_async(code)\n"
     ]
    }
   ],
   "source": [
    "nlp = spacy.load('en_core_web_md', disable=['parser', 'ner'])\n",
    "\n",
    "def lemmatization(texts,allowed_postags=['NOUN', 'ADJ']): \n",
    "       output = []\n",
    "       for sent in texts:\n",
    "             doc = nlp(sent) \n",
    "             output.append([token.lemma_ for token in doc if token.pos_ in allowed_postags ])\n",
    "       return output"
   ]
  },
  {
   "cell_type": "code",
   "execution_count": 15,
   "metadata": {
    "id": "FIewsXQZO5CP"
   },
   "outputs": [
    {
     "name": "stderr",
     "output_type": "stream",
     "text": [
      "/home/bethelhem/.local/lib/python3.8/site-packages/ipykernel/ipkernel.py:283: DeprecationWarning: `should_run_async` will not call `transform_cell` automatically in the future. Please pass the result to `transformed_cell` argument and any exception that happen during thetransform in `preprocessing_exc_tuple` in IPython 7.17 and above.\n",
      "  and should_run_async(code)\n"
     ]
    }
   ],
   "source": [
    "text_list=Clean_Tweet['original_text'].tolist()\n",
    "tokenized_reviews = lemmatization(text_list)"
   ]
  },
  {
   "cell_type": "code",
   "execution_count": 16,
   "metadata": {
    "id": "yvDkXYqLPFbg"
   },
   "outputs": [
    {
     "name": "stderr",
     "output_type": "stream",
     "text": [
      "/home/bethelhem/.local/lib/python3.8/site-packages/ipykernel/ipkernel.py:283: DeprecationWarning: `should_run_async` will not call `transform_cell` automatically in the future. Please pass the result to `transformed_cell` argument and any exception that happen during thetransform in `preprocessing_exc_tuple` in IPython 7.17 and above.\n",
      "  and should_run_async(code)\n"
     ]
    }
   ],
   "source": [
    "dictionary = corpora.Dictionary(tokenized_reviews)\n",
    "doc_term_matrix = [dictionary.doc2bow(rev) for rev in tokenized_reviews]"
   ]
  },
  {
   "cell_type": "code",
   "execution_count": 17,
   "metadata": {
    "id": "x5Z-V1CYPHFq"
   },
   "outputs": [
    {
     "name": "stderr",
     "output_type": "stream",
     "text": [
      "/home/bethelhem/.local/lib/python3.8/site-packages/ipykernel/ipkernel.py:283: DeprecationWarning: `should_run_async` will not call `transform_cell` automatically in the future. Please pass the result to `transformed_cell` argument and any exception that happen during thetransform in `preprocessing_exc_tuple` in IPython 7.17 and above.\n",
      "  and should_run_async(code)\n"
     ]
    }
   ],
   "source": [
    "LDA = gensim.models.ldamodel.LdaModel\n",
    "lda_model = LDA(corpus=doc_term_matrix, id2word=dictionary, num_topics=5, random_state=100,\n",
    "                chunksize=500, passes=50,iterations=100)"
   ]
  },
  {
   "cell_type": "code",
   "execution_count": 18,
   "metadata": {
    "colab": {
     "base_uri": "https://localhost:8080/"
    },
    "id": "lAGZoTU5PH0w",
    "outputId": "f0d046e8-57c4-4813-9889-de4f35987cb0"
   },
   "outputs": [
    {
     "name": "stderr",
     "output_type": "stream",
     "text": [
      "/home/bethelhem/.local/lib/python3.8/site-packages/ipykernel/ipkernel.py:283: DeprecationWarning: `should_run_async` will not call `transform_cell` automatically in the future. Please pass the result to `transformed_cell` argument and any exception that happen during thetransform in `preprocessing_exc_tuple` in IPython 7.17 and above.\n",
      "  and should_run_async(code)\n"
     ]
    },
    {
     "data": {
      "text/plain": [
       "[(0,\n",
       "  '0.044*\"vaccine\" + 0.030*\"case\" + 0.030*\"africa\" + 0.030*\"world\" + 0.026*\"covid19\" + 0.026*\"coronavirus\" + 0.025*\"oxygen\" + 0.023*\"amp\" + 0.022*\"death\" + 0.018*\"week\"'),\n",
       " (1,\n",
       "  '0.080*\"vaccine\" + 0.054*\"covid19\" + 0.033*\"amp\" + 0.019*\"world\" + 0.015*\"safe\" + 0.015*\"support\" + 0.014*\"people\" + 0.013*\"risk\" + 0.012*\"government\" + 0.011*\"safety\"'),\n",
       " (2,\n",
       "  '0.064*\"vaccine\" + 0.049*\"covid19\" + 0.034*\"dose\" + 0.034*\"vaccination\" + 0.034*\"ontario\" + 0.034*\"today\" + 0.032*\"india\" + 0.027*\"way\" + 0.017*\"2nd\" + 0.017*\"world\"'),\n",
       " (3,\n",
       "  '0.061*\"vaccine\" + 0.049*\"covid19\" + 0.024*\"variant\" + 0.019*\"dose\" + 0.019*\"south\" + 0.016*\"africa\" + 0.016*\"delta\" + 0.014*\"wave\" + 0.014*\"people\" + 0.014*\"place\"'),\n",
       " (4,\n",
       "  '0.100*\"vaccine\" + 0.077*\"africa\" + 0.034*\"public\" + 0.028*\"health\" + 0.027*\"good\" + 0.025*\"technology\" + 0.025*\"production\" + 0.024*\"leader\" + 0.024*\"patent\" + 0.024*\"expert\"')]"
      ]
     },
     "execution_count": 18,
     "metadata": {},
     "output_type": "execute_result"
    }
   ],
   "source": [
    "lda_model.print_topics()"
   ]
  },
  {
   "cell_type": "code",
   "execution_count": 19,
   "metadata": {
    "colab": {
     "base_uri": "https://localhost:8080/",
     "height": 881
    },
    "id": "h0hldQnOPKyJ",
    "outputId": "c6e013f6-7372-4cce-daa6-d991a07cb5a7"
   },
   "outputs": [
    {
     "name": "stderr",
     "output_type": "stream",
     "text": [
      "/home/bethelhem/.local/lib/python3.8/site-packages/ipykernel/ipkernel.py:283: DeprecationWarning: `should_run_async` will not call `transform_cell` automatically in the future. Please pass the result to `transformed_cell` argument and any exception that happen during thetransform in `preprocessing_exc_tuple` in IPython 7.17 and above.\n",
      "  and should_run_async(code)\n"
     ]
    },
    {
     "data": {
      "text/html": [
       "\n",
       "<link rel=\"stylesheet\" type=\"text/css\" href=\"https://cdn.jsdelivr.net/gh/bmabey/pyLDAvis@3.3.1/pyLDAvis/js/ldavis.v1.0.0.css\">\n",
       "\n",
       "\n",
       "<div id=\"ldavis_el362591404455317548963306128165\"></div>\n",
       "<script type=\"text/javascript\">\n",
       "\n",
       "var ldavis_el362591404455317548963306128165_data = {\"mdsDat\": {\"x\": [0.27477154136010984, -0.0821908678916734, 0.004432962547515373, 0.029293112595832657, -0.22630674861178446], \"y\": [-0.1563210130208836, 0.13762640175472968, 0.12279549921287254, 0.11800130731454751, -0.2221021952612659], \"topics\": [1, 2, 3, 4, 5], \"cluster\": [1, 1, 1, 1, 1], \"Freq\": [24.495924819801985, 21.638176881672734, 19.78354413978412, 18.69114095051191, 15.391213208229251]}, \"tinfo\": {\"Term\": [\"africa\", \"vaccination\", \"ontario\", \"today\", \"india\", \"public\", \"way\", \"amp\", \"dose\", \"coronavirus\", \"oxygen\", \"technology\", \"production\", \"leader\", \"patent\", \"world\", \"variant\", \"uk\", \"case\", \"germany\", \"good\", \"restriction\", \"lift\", \"desperate\", \"expert\", \"request\", \"head\", \"death\", \"health\", \"south\", \"ontario\", \"today\", \"vaccination\", \"india\", \"way\", \"2nd\", \"fast\", \"ashevak\", \"beautiful\", \"capita\", \"fish\", \"pace\", \"action\", \"trajectory\", \"urgent\", \"blown\", \"rebound\", \"overwhelm\", \"sobering\", \"text\", \"wecandothis\", \"code\", \"zip\", \"search\", \"welcome\", \"easy\", \"pleased\", \"\\ud83d\\udcf1\", \"bus\", \"atlanta\", \"dose\", \"huge\", \"covid19\", \"vaccine\", \"day\", \"full\", \"world\", \"wave\", \"third\", \"system\", \"africa\", \"case\", \"health\", \"safe\", \"support\", \"safety\", \"child\", \"lockdown\", \"adverse\", \"event\", \"possible\", \"un\", \"solution\", \"order\", \"vax\", \"cdc\", \"science\", \"centre\", \"politician\", \"agenda\", \"global\", \"datum\", \"21st\", \"potential\", \"issue\", \"sure\", \"group\", \"vaer\", \"usfda\", \"monitoring\", \"pregnant\", \"sarscov2\", \"young\", \"question\", \"amp\", \"virus\", \"government\", \"vaccine\", \"covid19\", \"risk\", \"world\", \"pfizer\", \"people\", \"mrna\", \"palestinian\", \"country\", \"system\", \"new\", \"june\", \"good\", \"doctor\", \"full\", \"patient\", \"south\", \"delta\", \"many\", \"part\", \"surge\", \"deadly\", \"threat\", \"little\", \"rural\", \"httpstcoxsjd4tjile\", \"open\", \"department\", \"medical\", \"concern\", \"critical\", \"call\", \"httpstcokudpxpqq22\", \"muchneeded\", \"efficacy\", \"sinovac\", \"capacity\", \"staff\", \"update\", \"education\", \"travel\", \"dirty\", \"impact\", \"big\", \"jammu\", \"long\", \"variant\", \"time\", \"million\", \"place\", \"america\", \"mask\", \"covid19\", \"vaccine\", \"available\", \"dose\", \"new\", \"wave\", \"people\", \"third\", \"africa\", \"risk\", \"case\", \"coronavirus\", \"oxygen\", \"week\", \"failure\", \"ugandan\", \"money\", \"continent\", \"ppe\", \"dailymonitor\", \"total\", \"last\", \"whoafro\", \"jrigger\", \"supply\", \"positive\", \"daily\", \"economy\", \"china\", \"folk\", \"manner\", \"street\", \"gradual\", \"unlock\", \"high\", \"hselive\", \"icu\", \"inpatient\", \"next\", \"httpstcoipdmndwmpv\", \"benefit\", \"hospital\", \"death\", \"patient\", \"worker\", \"case\", \"covid\", \"world\", \"fullblown\", \"amp\", \"africa\", \"health\", \"vaccine\", \"wave\", \"third\", \"midst\", \"covid19\", \"head\", \"public\", \"technology\", \"production\", \"leader\", \"patent\", \"uk\", \"germany\", \"restriction\", \"lift\", \"desperate\", \"request\", \"effect\", \"side\", \"flu\", \"httpstcobv3mn5xdle\", \"shingle\", \"coverage\", \"twitter\", \"intervention\", \"policy\", \"courageous\", \"crazy\", \"hirewire\", \"minute\", \"overview\", \"qualified\", \"size\", \"constitutional\", \"hoax\", \"httpstcoxivwoctrfp\", \"expert\", \"response\", \"good\", \"africa\", \"head\", \"vaccine\", \"health\", \"more\", \"day\", \"free\", \"government\", \"covid19\", \"people\"], \"Freq\": [1240.0, 436.0, 436.0, 436.0, 409.0, 274.0, 343.0, 666.0, 673.0, 253.0, 243.0, 203.0, 198.0, 196.0, 193.0, 721.0, 280.0, 190.0, 538.0, 188.0, 308.0, 185.0, 184.0, 184.0, 207.0, 182.0, 286.0, 258.0, 576.0, 193.0, 435.67870680325245, 435.4004369615291, 435.8823957436766, 408.81883924795596, 343.0702838412608, 218.0700194286279, 200.30859210833393, 190.37177325573353, 190.37177325573353, 190.37177325573353, 190.37177325573353, 190.37177325573353, 152.43143742840996, 146.82256689955543, 145.7394010631767, 145.8271124048455, 144.74275289206952, 144.18075810748743, 144.18075810748743, 133.52036843317526, 133.23170167003198, 131.03007298620827, 131.03007298620827, 127.65784166990836, 126.9192424623554, 125.22446071356153, 124.5580192442214, 123.49639926681274, 121.44924424555518, 120.32529048668292, 439.87906305689796, 197.0821444904283, 626.6896579594132, 822.4013067678844, 214.92757081879566, 159.956683792441, 215.34082158751832, 168.00792366091352, 161.24027983267942, 146.66621916504565, 164.332068816213, 151.44254815388481, 149.54681098361647, 169.60601408354756, 169.56373186123363, 121.93578188761526, 104.91847379806244, 86.52977715081107, 66.63218509768267, 64.76456563062308, 64.45307956344712, 63.48504337265274, 62.8916371613353, 61.10063181580513, 59.720607562327274, 59.09933831548251, 59.04291632755189, 59.03157604573178, 57.41316335754462, 57.151830754317835, 60.05055124300959, 56.50776495768687, 54.79199771622677, 54.01740532856736, 53.54607980801067, 52.80532901449503, 53.14690821446, 50.562694704837696, 50.14623063133819, 48.95775222587897, 45.48584929205383, 45.746828664745074, 44.50963607796657, 87.40464483378355, 375.48148649568606, 111.98221988487003, 134.43661054038478, 908.6077997826998, 613.7846819318796, 152.1407991307346, 215.13093489051016, 76.1112635934415, 163.90778343777293, 68.62557572378476, 104.82726651052741, 97.94342548035824, 108.74477240098535, 100.28854936629772, 69.15972355869216, 80.45677417892578, 66.36965045621552, 63.70852231550372, 61.60135455227485, 192.46803254954182, 162.53585413392807, 134.70996728260434, 112.83475779383097, 108.77499492237206, 106.44526687692517, 104.28869077685766, 102.01168629854399, 98.49661793551336, 97.33913848993821, 92.09444019938148, 91.19163226102125, 80.37777702650943, 71.51431779876137, 69.93595601749372, 68.81316769576733, 64.66463083126649, 64.66463083126649, 64.24396540547718, 55.26799260083903, 50.75033774398485, 49.09042747956125, 48.83420386148357, 48.25042700872213, 45.916052271127086, 45.310116866700675, 45.12141971159331, 44.862814904800715, 44.28795545917005, 44.16230196236726, 247.99583019197107, 123.68104346897842, 97.0959294660514, 141.0833201027135, 104.45124787852166, 74.66836131893734, 502.37332326345313, 633.0302084996165, 60.56956948822991, 192.90499513939014, 118.33642201635625, 144.23711297144578, 143.60718733172754, 132.99200228764934, 165.66834162994792, 101.8050338236733, 89.9987627596871, 252.97017665429362, 242.61335555817058, 178.0503439836505, 130.44240101566243, 127.81388966472333, 113.93880352955507, 113.09903518499503, 112.81444297573121, 111.01757552940262, 110.5214199892555, 108.06527063563152, 99.46757295091453, 98.74475282266849, 79.19955446827737, 61.265750429147076, 58.626309338365544, 58.16520638470475, 57.69209893345036, 52.836252332488556, 50.248691073492424, 49.95646626257198, 49.41481568033075, 49.41481568033075, 48.496567249643775, 48.22077348095312, 47.91773278164695, 46.32874443306311, 41.720993818407926, 40.51013348184777, 39.40564683830406, 137.10490628822834, 213.48971574676816, 164.47303861048925, 130.3931169970896, 296.5672694247712, 125.08846795384802, 290.39455311889424, 101.25780968840539, 226.28392347645234, 292.06642077389154, 175.67004702453298, 426.087309695131, 147.78636798202118, 143.42024659093252, 101.26471364073919, 255.73694921423947, 104.23905106840932, 274.1192000747012, 202.93531092913017, 197.94422085649555, 195.27012902892463, 192.37538498768143, 190.11421730273253, 188.12009729691397, 184.9792157863201, 184.01151107791503, 183.7321632753849, 182.11390204033356, 94.83917146493225, 69.76968995775273, 69.17197146119898, 68.20461925633035, 68.20461925633035, 63.67820384549994, 54.61932796319261, 53.81816242557585, 51.82888746836478, 50.99178907025503, 50.99178907025503, 50.99178907025503, 50.99178907025503, 50.99178907025503, 50.99178907025503, 50.99178907025503, 27.536023752529093, 27.536023752529093, 27.536023752529093, 192.19529318092756, 90.18780480054032, 214.13391327803896, 617.903299055849, 181.4621905020998, 802.9771957920466, 223.77883003974543, 73.31304050607878, 113.06076927137241, 66.27070985456893, 78.51431268734531, 148.43580416803232, 75.96748963658622], \"Total\": [1240.0, 436.0, 436.0, 436.0, 409.0, 274.0, 343.0, 666.0, 673.0, 253.0, 243.0, 203.0, 198.0, 196.0, 193.0, 721.0, 280.0, 190.0, 538.0, 188.0, 308.0, 185.0, 184.0, 184.0, 207.0, 182.0, 286.0, 258.0, 576.0, 193.0, 436.4567800545399, 436.1821453696064, 436.67869383033764, 409.59382292812165, 343.8409287142275, 218.84300995423934, 201.0803126093666, 191.14117242138946, 191.14117242138946, 191.14117242138946, 191.14117242138946, 191.14117242138946, 153.20544473968198, 147.59249040366583, 146.5090323924406, 146.60207486787053, 145.51217816028824, 144.95015640382627, 144.95015640382627, 134.29044136885733, 134.0020748877529, 131.79990453258685, 131.79990453258685, 128.42756814859973, 127.69147072480553, 125.99462740578991, 125.33047274274847, 124.26592193515293, 122.21868844402479, 121.09468811229041, 673.3431005615964, 251.02594377238637, 2147.020416537018, 3593.103820537378, 391.24200307434813, 242.8740692677003, 721.2673990627346, 460.4308483015839, 438.0517511736505, 255.99250838737325, 1240.1612011202876, 538.4098667168191, 576.7103582002835, 170.37609009490725, 170.37848641223292, 122.70574191522856, 105.68795735409917, 87.30131992917941, 67.4014043131183, 65.53429863123596, 65.22347694406145, 64.25372268217964, 63.660798208443985, 61.87116961077616, 60.49020468557201, 59.86837176418876, 59.815543724484264, 59.806155706083324, 58.18180977025319, 57.92048529249743, 60.87096467898756, 57.28767740815657, 55.56739848433705, 54.78789121589638, 54.31559796631879, 53.574193932869726, 53.92140907664279, 51.33196802849376, 50.91483080848958, 49.726385346669396, 46.255298013772375, 46.52796571977306, 45.278586093850855, 98.13173790859364, 666.1396363088936, 150.37903567480518, 213.5101275817151, 3593.103820537378, 2147.020416537018, 289.94435778706503, 721.2673990627346, 106.74741980165435, 470.8540441461623, 87.68655688895534, 210.490774267664, 193.88536229401166, 255.99250838737325, 284.00062306455374, 125.71626955838059, 308.67739894776446, 159.38728226838492, 242.8740692677003, 226.6654326083571, 193.24380178009136, 163.30842054743923, 135.48320269364623, 113.606772872502, 109.54655270200051, 107.21533508677021, 105.05794674454815, 102.7806860378606, 99.26550094060306, 98.10722817289167, 92.86602489049059, 91.97319833450226, 81.15150696777692, 72.28249966373053, 70.70516870130972, 69.58188156880105, 65.43271696252157, 65.43271696252157, 65.01724158504673, 56.03806272977005, 51.5260094179246, 49.86277393015026, 49.60888042133658, 49.03214012254025, 46.68480166130271, 46.07820193173959, 45.90059166156656, 45.639069980702814, 45.057998852828376, 44.93056295031493, 280.2527897418086, 136.73276485089235, 105.52548675417746, 169.15565840766422, 124.38401264978505, 85.16746827644585, 2147.020416537018, 3593.103820537378, 71.21000933691175, 673.3431005615964, 284.00062306455374, 460.4308483015839, 470.8540441461623, 438.0517511736505, 1240.1612011202876, 289.94435778706503, 538.4098667168191, 253.75071576870798, 243.38920783989838, 178.82722082309397, 131.22341717484446, 128.59180620910954, 114.71526898671105, 113.87555765974075, 113.5903099128015, 111.79341549206758, 111.29923786677959, 108.84199837038737, 100.2434121818593, 99.52059206826185, 79.97864879418563, 62.04653516349706, 59.40618172971785, 58.944114895004056, 58.47709871339207, 53.616273422486934, 51.02774694352826, 50.73614095479019, 50.19358469993591, 50.19358469993591, 49.27643532053618, 48.997796265231976, 48.69489142247686, 47.10584220783961, 42.508936367394334, 41.28744874335128, 40.18753781674889, 149.0526349557709, 258.7766512085541, 226.6654326083571, 174.97436004584887, 538.4098667168191, 179.56021768544724, 721.2673990627346, 151.902840330129, 666.1396363088936, 1240.1612011202876, 576.7103582002835, 3593.103820537378, 460.4308483015839, 438.0517511736505, 216.37813602807668, 2147.020416537018, 286.2669312031225, 274.8751173912136, 203.68516693725545, 198.69366399925048, 196.01836741264788, 193.12222927853747, 190.86187089488973, 188.86691562778097, 185.72634582888463, 184.75851822452643, 184.4798913039412, 182.8609980698902, 95.59279381819867, 70.5166644903717, 69.91910908077254, 68.95140090013024, 68.95140090013024, 64.50926212484615, 55.36798006482196, 54.565958550248496, 52.57673907977391, 51.73856946248655, 51.73856946248655, 51.73856946248655, 51.73856946248655, 51.73856946248655, 51.73856946248655, 51.73856946248655, 28.282805139647486, 28.282805139647486, 28.282805139647486, 207.66254045104853, 102.48788145911054, 308.67739894776446, 1240.1612011202876, 286.2669312031225, 3593.103820537378, 576.7103582002835, 105.43018211845794, 391.24200307434813, 112.12226833566407, 213.5101275817151, 2147.020416537018, 470.8540441461623], \"Category\": [\"Default\", \"Default\", \"Default\", \"Default\", \"Default\", \"Default\", \"Default\", \"Default\", \"Default\", \"Default\", \"Default\", \"Default\", \"Default\", \"Default\", \"Default\", \"Default\", \"Default\", \"Default\", \"Default\", \"Default\", \"Default\", \"Default\", \"Default\", \"Default\", \"Default\", \"Default\", \"Default\", \"Default\", \"Default\", \"Default\", \"Topic1\", \"Topic1\", \"Topic1\", \"Topic1\", \"Topic1\", \"Topic1\", \"Topic1\", \"Topic1\", \"Topic1\", \"Topic1\", \"Topic1\", \"Topic1\", \"Topic1\", \"Topic1\", \"Topic1\", \"Topic1\", \"Topic1\", \"Topic1\", \"Topic1\", \"Topic1\", \"Topic1\", \"Topic1\", \"Topic1\", \"Topic1\", \"Topic1\", \"Topic1\", \"Topic1\", \"Topic1\", \"Topic1\", \"Topic1\", \"Topic1\", \"Topic1\", \"Topic1\", \"Topic1\", \"Topic1\", \"Topic1\", \"Topic1\", \"Topic1\", \"Topic1\", \"Topic1\", \"Topic1\", \"Topic1\", \"Topic1\", \"Topic2\", \"Topic2\", \"Topic2\", \"Topic2\", \"Topic2\", \"Topic2\", \"Topic2\", \"Topic2\", \"Topic2\", \"Topic2\", \"Topic2\", \"Topic2\", \"Topic2\", \"Topic2\", \"Topic2\", \"Topic2\", \"Topic2\", \"Topic2\", \"Topic2\", \"Topic2\", \"Topic2\", \"Topic2\", \"Topic2\", \"Topic2\", \"Topic2\", \"Topic2\", \"Topic2\", \"Topic2\", \"Topic2\", \"Topic2\", \"Topic2\", \"Topic2\", \"Topic2\", \"Topic2\", \"Topic2\", \"Topic2\", \"Topic2\", \"Topic2\", \"Topic2\", \"Topic2\", \"Topic2\", \"Topic2\", \"Topic2\", \"Topic2\", \"Topic2\", \"Topic2\", \"Topic2\", \"Topic2\", \"Topic2\", \"Topic2\", \"Topic3\", \"Topic3\", \"Topic3\", \"Topic3\", \"Topic3\", \"Topic3\", \"Topic3\", \"Topic3\", \"Topic3\", \"Topic3\", \"Topic3\", \"Topic3\", \"Topic3\", \"Topic3\", \"Topic3\", \"Topic3\", \"Topic3\", \"Topic3\", \"Topic3\", \"Topic3\", \"Topic3\", \"Topic3\", \"Topic3\", \"Topic3\", \"Topic3\", \"Topic3\", \"Topic3\", \"Topic3\", \"Topic3\", \"Topic3\", \"Topic3\", \"Topic3\", \"Topic3\", \"Topic3\", \"Topic3\", \"Topic3\", \"Topic3\", \"Topic3\", \"Topic3\", \"Topic3\", \"Topic3\", \"Topic3\", \"Topic3\", \"Topic3\", \"Topic3\", \"Topic3\", \"Topic3\", \"Topic4\", \"Topic4\", \"Topic4\", \"Topic4\", \"Topic4\", \"Topic4\", \"Topic4\", \"Topic4\", \"Topic4\", \"Topic4\", \"Topic4\", \"Topic4\", \"Topic4\", \"Topic4\", \"Topic4\", \"Topic4\", \"Topic4\", \"Topic4\", \"Topic4\", \"Topic4\", \"Topic4\", \"Topic4\", \"Topic4\", \"Topic4\", \"Topic4\", \"Topic4\", \"Topic4\", \"Topic4\", \"Topic4\", \"Topic4\", \"Topic4\", \"Topic4\", \"Topic4\", \"Topic4\", \"Topic4\", \"Topic4\", \"Topic4\", \"Topic4\", \"Topic4\", \"Topic4\", \"Topic4\", \"Topic4\", \"Topic4\", \"Topic4\", \"Topic4\", \"Topic4\", \"Topic4\", \"Topic5\", \"Topic5\", \"Topic5\", \"Topic5\", \"Topic5\", \"Topic5\", \"Topic5\", \"Topic5\", \"Topic5\", \"Topic5\", \"Topic5\", \"Topic5\", \"Topic5\", \"Topic5\", \"Topic5\", \"Topic5\", \"Topic5\", \"Topic5\", \"Topic5\", \"Topic5\", \"Topic5\", \"Topic5\", \"Topic5\", \"Topic5\", \"Topic5\", \"Topic5\", \"Topic5\", \"Topic5\", \"Topic5\", \"Topic5\", \"Topic5\", \"Topic5\", \"Topic5\", \"Topic5\", \"Topic5\", \"Topic5\", \"Topic5\", \"Topic5\", \"Topic5\", \"Topic5\", \"Topic5\", \"Topic5\", \"Topic5\"], \"logprob\": [30.0, 29.0, 28.0, 27.0, 26.0, 25.0, 24.0, 23.0, 22.0, 21.0, 20.0, 19.0, 18.0, 17.0, 16.0, 15.0, 14.0, 13.0, 12.0, 11.0, 10.0, 9.0, 8.0, 7.0, 6.0, 5.0, 4.0, 3.0, 2.0, 1.0, -3.3816, -3.3823, -3.3812, -3.4453, -3.6206, -4.0737, -4.1587, -4.2095, -4.2095, -4.2095, -4.2095, -4.2095, -4.4318, -4.4693, -4.4767, -4.4761, -4.4836, -4.4875, -4.4875, -4.5643, -4.5664, -4.5831, -4.5831, -4.6092, -4.615, -4.6284, -4.6338, -4.6423, -4.659, -4.6683, -3.372, -4.1749, -3.0181, -2.7463, -4.0882, -4.3836, -4.0863, -4.3345, -4.3756, -4.4704, -4.3566, -4.4383, -4.4509, -4.201, -4.2013, -4.531, -4.6813, -4.874, -5.1353, -5.1637, -5.1685, -5.1837, -5.1931, -5.222, -5.2448, -5.2553, -5.2562, -5.2564, -5.2842, -5.2888, -5.2393, -5.3001, -5.3309, -5.3452, -5.3539, -5.3679, -5.3614, -5.4113, -5.4195, -5.4435, -5.5171, -5.5114, -5.5388, -4.8639, -3.4063, -4.6161, -4.4334, -2.5226, -2.9148, -4.3097, -3.9632, -5.0023, -4.2352, -5.1058, -4.6822, -4.7501, -4.6455, -4.7264, -5.0981, -4.9468, -5.1392, -5.1802, -5.2138, -3.9849, -4.154, -4.3417, -4.5189, -4.5556, -4.5772, -4.5977, -4.6198, -4.6548, -4.6667, -4.7221, -4.7319, -4.8581, -4.975, -4.9973, -5.0135, -5.0757, -5.0757, -5.0822, -5.2327, -5.318, -5.3512, -5.3564, -5.3685, -5.4181, -5.4313, -5.4355, -5.4413, -5.4542, -5.457, -3.7315, -4.4272, -4.6692, -4.2955, -4.5962, -4.9318, -3.0255, -2.7944, -5.1411, -3.9827, -4.4713, -4.2734, -4.2778, -4.3546, -4.1349, -4.6218, -4.7451, -3.6548, -3.6966, -4.006, -4.3171, -4.3375, -4.4524, -4.4598, -4.4623, -4.4784, -4.4829, -4.5053, -4.5882, -4.5955, -4.8161, -5.0728, -5.1169, -5.1248, -5.133, -5.2209, -5.2711, -5.2769, -5.2878, -5.2878, -5.3066, -5.3123, -5.3186, -5.3523, -5.4571, -5.4865, -5.5142, -4.2673, -3.8245, -4.0853, -4.3175, -3.4958, -4.359, -3.5168, -4.5704, -3.7663, -3.5111, -4.0195, -3.1334, -4.1923, -4.2223, -4.5703, -3.6439, -4.5414, -3.3803, -3.6809, -3.7058, -3.7194, -3.7344, -3.7462, -3.7567, -3.7736, -3.7788, -3.7803, -3.7892, -4.4416, -4.7486, -4.7572, -4.7713, -4.7713, -4.84, -4.9934, -5.0082, -5.0459, -5.0622, -5.0622, -5.0622, -5.0622, -5.0622, -5.0622, -5.0622, -5.6783, -5.6783, -5.6783, -3.7353, -4.4919, -3.6272, -2.5675, -3.7928, -2.3055, -3.5832, -4.6991, -4.2659, -4.8001, -4.6305, -3.9937, -4.6635], \"loglift\": [30.0, 29.0, 28.0, 27.0, 26.0, 25.0, 24.0, 23.0, 22.0, 21.0, 20.0, 19.0, 18.0, 17.0, 16.0, 15.0, 14.0, 13.0, 12.0, 11.0, 10.0, 9.0, 8.0, 7.0, 6.0, 5.0, 4.0, 3.0, 2.0, 1.0, 1.4049, 1.4049, 1.4048, 1.4048, 1.4044, 1.4031, 1.4028, 1.4026, 1.4026, 1.4026, 1.4026, 1.4026, 1.4016, 1.4014, 1.4014, 1.4014, 1.4014, 1.4013, 1.4013, 1.4009, 1.4009, 1.4008, 1.4008, 1.4007, 1.4006, 1.4005, 1.4005, 1.4005, 1.4003, 1.4003, 0.9809, 1.1647, 0.1753, -0.0679, 0.8076, 0.989, 0.1979, 0.3985, 0.4072, 0.8497, -0.6144, 0.1382, 0.0569, 1.5262, 1.5259, 1.5244, 1.5234, 1.5218, 1.5192, 1.5189, 1.5188, 1.5187, 1.5186, 1.5182, 1.5179, 1.5178, 1.5177, 1.5177, 1.5174, 1.5174, 1.5171, 1.517, 1.5167, 1.5165, 1.5164, 1.5163, 1.5162, 1.5156, 1.5155, 1.5151, 1.5139, 1.5138, 1.5136, 1.4149, 0.9574, 1.2359, 1.0681, 0.1559, 0.2785, 0.8858, 0.3209, 1.1924, 0.4755, 1.2856, 0.8336, 0.8478, 0.6746, 0.4898, 0.9331, 0.1861, 0.6546, 0.1925, 0.2279, 1.6163, 1.6156, 1.6146, 1.6135, 1.6133, 1.6131, 1.613, 1.6128, 1.6125, 1.6125, 1.612, 1.6118, 1.6107, 1.6096, 1.6094, 1.6092, 1.6085, 1.6085, 1.6084, 1.6065, 1.6052, 1.6047, 1.6046, 1.6042, 1.6037, 1.6035, 1.6032, 1.6032, 1.6031, 1.6031, 1.498, 1.52, 1.5371, 1.4389, 1.4457, 1.4888, 0.1678, -0.1159, 1.4585, 0.3703, 0.7449, 0.4596, 0.4329, 0.4283, -0.3927, 0.5737, -0.1685, 1.674, 1.6739, 1.6728, 1.6712, 1.6711, 1.6703, 1.6703, 1.6703, 1.6702, 1.6701, 1.67, 1.6694, 1.6693, 1.6673, 1.6645, 1.6639, 1.6638, 1.6636, 1.6625, 1.6617, 1.6616, 1.6615, 1.6615, 1.6612, 1.6611, 1.661, 1.6605, 1.6584, 1.6581, 1.6575, 1.5936, 1.4847, 1.3564, 1.383, 1.0808, 1.3156, 0.7674, 1.2715, 0.5974, 0.2311, 0.4884, -0.455, 0.5407, 0.5606, 0.9178, -0.4506, 0.6669, 1.8686, 1.8677, 1.8676, 1.8675, 1.8675, 1.8674, 1.8674, 1.8673, 1.8673, 1.8673, 1.8673, 1.8635, 1.8607, 1.8606, 1.8605, 1.8605, 1.8584, 1.8578, 1.8576, 1.857, 1.8568, 1.8568, 1.8568, 1.8568, 1.8568, 1.8568, 1.8568, 1.8446, 1.8446, 1.8446, 1.794, 1.7435, 1.5057, 1.1747, 1.4155, 0.3729, 0.9247, 1.5081, 0.63, 1.3455, 0.871, -0.8003, 0.0471]}, \"token.table\": {\"Topic\": [2, 1, 1, 2, 1, 3, 4, 5, 2, 2, 3, 2, 3, 4, 1, 1, 2, 3, 1, 4, 3, 1, 1, 3, 3, 1, 1, 3, 4, 2, 2, 2, 4, 1, 3, 5, 4, 4, 2, 4, 5, 5, 3, 4, 1, 2, 3, 4, 5, 5, 3, 4, 4, 2, 1, 3, 5, 3, 2, 4, 3, 3, 5, 3, 2, 3, 5, 1, 2, 3, 1, 4, 3, 5, 3, 2, 2, 5, 4, 1, 1, 5, 4, 2, 5, 1, 2, 3, 1, 4, 5, 2, 2, 4, 5, 2, 5, 4, 2, 4, 5, 1, 2, 4, 5, 4, 5, 5, 3, 4, 4, 5, 4, 3, 5, 3, 1, 3, 4, 4, 3, 1, 4, 5, 2, 3, 4, 2, 3, 4, 4, 5, 5, 3, 2, 3, 4, 3, 3, 4, 3, 1, 3, 4, 2, 3, 5, 4, 2, 2, 5, 1, 2, 3, 2, 3, 4, 4, 1, 3, 2, 5, 1, 4, 1, 1, 2, 5, 3, 5, 2, 4, 1, 2, 3, 4, 5, 2, 3, 3, 5, 1, 5, 2, 4, 2, 2, 4, 2, 5, 5, 5, 2, 4, 1, 5, 4, 5, 5, 2, 3, 5, 3, 2, 2, 2, 2, 1, 5, 5, 3, 5, 1, 2, 3, 3, 4, 4, 2, 2, 3, 1, 2, 5, 1, 1, 3, 4, 3, 3, 4, 1, 4, 1, 3, 5, 4, 5, 2, 4, 3, 1, 2, 1, 1, 2, 3, 4, 5, 2, 2, 3, 2, 2, 3, 1, 3, 4, 1, 1, 4, 1, 4, 3, 4, 1, 2, 4, 2, 1, 1], \"Freq\": [0.9897890039877073, 0.9961478780865991, 0.9921318413863802, 0.9940445704772922, 0.1322408730831542, 0.133853566657339, 0.23545326183098184, 0.4983223144231054, 0.9841077765863149, 0.15275275009414832, 0.8361203163048119, 0.5629450336837634, 0.09607595241536228, 0.3392682069667481, 0.9940296880733073, 0.9909600649759689, 0.14042969651481976, 0.8566211487404006, 0.9940296880733073, 0.9704500976854082, 0.985997304919381, 0.9958931354251762, 0.9900286244310097, 0.9916374556755022, 0.9897913806276328, 0.9940296880733073, 0.280455484444938, 0.1671588980135392, 0.5516243634446794, 0.9854953168325818, 0.986520522903275, 0.993490674138074, 0.9918412725000189, 0.9939309172079933, 0.9960917280801748, 0.990000810094645, 0.9923112766450118, 0.9970415225571531, 0.5054533196342632, 0.4899802588291327, 0.9857249732615422, 0.99210559680778, 0.3007347657296615, 0.6961452910408831, 0.29203262119477363, 0.2859777183629841, 0.2338124016583355, 0.11923500961062528, 0.06893273993114274, 0.9857249732615422, 0.9900266315141872, 0.9931626353034122, 0.9929028423670991, 0.9949783719436388, 0.5495319988921111, 0.16102565548931627, 0.2888237947665514, 0.9886645405175796, 0.17389513230748727, 0.8231036262554398, 0.9981114228745502, 0.9894186746560364, 0.997398679603781, 0.9766006075207352, 0.4140857354532568, 0.23841299920035994, 0.33879741991630097, 0.653455867644625, 0.0594050788767841, 0.2866295055804833, 0.9921057950940517, 0.9839828811292562, 0.978949723182371, 0.9937987604031527, 0.9843542795688107, 0.9918470382319574, 0.07223257486602834, 0.9245769582851626, 0.9906768380127279, 0.994627457082458, 0.9940296880733073, 0.9868546797455505, 0.9885058512435058, 0.40134757054042147, 0.5886431034592848, 0.6587776145984734, 0.2635110458393894, 0.07822984173356871, 0.32915776881680076, 0.6648986930099375, 0.9954099127160552, 0.9856916235255885, 0.2591702543584602, 0.04535479451273053, 0.693280430408881, 0.6276048893686095, 0.37000586761283694, 0.9762203734387308, 0.9829119992889445, 0.3632972888726925, 0.6322770123649745, 0.26009590059748344, 0.04855123477819691, 0.30517919003438054, 0.38840987822557527, 0.9740964355024232, 0.9857249732615422, 0.990000810094645, 0.07379943335630451, 0.9191383972557926, 0.9796358950547334, 0.9862018626494876, 0.9930378661772468, 0.9933868409778946, 0.990000810094645, 0.9887141019727881, 0.7847794416764607, 0.02788556391743769, 0.1832479914574477, 0.9857296853493731, 0.9803795195450468, 0.9985502151280591, 0.9765243087479377, 0.9896279921532521, 0.9941895518389673, 0.9765191779536395, 0.9947690014956425, 0.5488549751148758, 0.3022679573096418, 0.14317955872561977, 0.9922640305856746, 0.9948047347496571, 0.9958945426072067, 0.9924043507787734, 0.9965485066042088, 0.9792888651018247, 0.9798590569819661, 0.9964334863360231, 0.880617934497675, 0.11741572459969, 0.9858104056128723, 0.23107695129378564, 0.30040003668192133, 0.466775441613447, 0.07581106940199261, 0.9192092164991604, 0.9857249732615422, 0.9937648318917867, 0.9853923557562977, 0.3035183982139558, 0.6924013459255867, 0.20527661979925696, 0.786893709230485, 0.9933868409778946, 0.35211190356180966, 0.4154920462029354, 0.22887273731517627, 0.988027544067541, 0.9989534357686395, 0.9906744701142121, 0.9859196194890677, 0.9857249732615422, 0.9934449439214182, 0.9984008829177241, 0.9940296880733073, 0.20903528980347985, 0.4988342143037587, 0.2897989245002789, 0.9946590079344744, 0.994189020690524, 0.2735309009694762, 0.7235333509515176, 0.029733205382970283, 0.34830326305765186, 0.30582725536769434, 0.15503742806834503, 0.16140882922183866, 0.711961002347545, 0.28103723776876777, 0.8335517790376883, 0.165528012858548, 0.9973631892107613, 0.9890305277605971, 0.9796876416371391, 0.9831330603596258, 0.9812417705803885, 0.9856192454498454, 0.9948031666323064, 0.9728615300803247, 0.9965088771061512, 0.9968163091678898, 0.9857249732615422, 0.8865633265461734, 0.1019038306374912, 0.9964801697922214, 0.9952915160751713, 0.11708701389039469, 0.8781526041779601, 0.9960891610415151, 0.5242385165212586, 0.35179163608663405, 0.12416175391292966, 0.9872513518935416, 0.9977925887681907, 0.9942485012990173, 0.9886527229031918, 0.9863656890215572, 0.9966707448037558, 0.9862018626494876, 0.992673157556364, 0.9814757563127074, 0.9857249732615422, 0.9934449439214182, 0.9896200137755053, 0.9935635618393247, 0.9826970330339249, 0.9854907972711968, 0.9877636243054811, 0.9977785551438861, 0.9892822665033615, 0.9950107722377417, 0.5742355544934796, 0.42579371047475695, 0.996636147110965, 0.9978372148762281, 0.36753648300375613, 0.3036170946552768, 0.32644544763687655, 0.9899298741567777, 0.9068784657080731, 0.08776243216529739, 0.9972897896391318, 0.9973114113581104, 0.995985633130484, 0.9853313790155749, 0.9933539192798592, 0.9953977922345443, 0.9954843212484049, 0.9804879370432594, 0.9762203734387308, 0.9877263825314085, 0.9965255903739977, 0.9820321349602316, 0.9984457821278514, 0.2287715693884579, 0.2529846187032947, 0.17617080708381247, 0.11856044836920082, 0.2234836620668269, 0.9935329183500331, 0.11418262786779383, 0.8849153659754022, 0.9918961311485043, 0.7447846669412093, 0.252694797712196, 0.3648756390231251, 0.3127505477341072, 0.3214380629489435, 0.9975543088562141, 0.9925219449878496, 0.9953741895708803, 0.9945848323237207, 0.9875960708559728, 0.2514654146382967, 0.7429659977949675, 0.2980863966392853, 0.2980863966392853, 0.4020700233739197, 0.9938472881358659, 0.9939309172079933, 0.9898127989118888], \"Term\": [\"21st\", \"2nd\", \"action\", \"adverse\", \"africa\", \"africa\", \"africa\", \"africa\", \"agenda\", \"america\", \"america\", \"amp\", \"amp\", \"amp\", \"ashevak\", \"atlanta\", \"available\", \"available\", \"beautiful\", \"benefit\", \"big\", \"blown\", \"bus\", \"call\", \"capacity\", \"capita\", \"case\", \"case\", \"case\", \"cdc\", \"centre\", \"child\", \"china\", \"code\", \"concern\", \"constitutional\", \"continent\", \"coronavirus\", \"country\", \"country\", \"courageous\", \"coverage\", \"covid\", \"covid\", \"covid19\", \"covid19\", \"covid19\", \"covid19\", \"covid19\", \"crazy\", \"critical\", \"daily\", \"dailymonitor\", \"datum\", \"day\", \"day\", \"day\", \"deadly\", \"death\", \"death\", \"delta\", \"department\", \"desperate\", \"dirty\", \"doctor\", \"doctor\", \"doctor\", \"dose\", \"dose\", \"dose\", \"easy\", \"economy\", \"education\", \"effect\", \"efficacy\", \"event\", \"expert\", \"expert\", \"failure\", \"fast\", \"fish\", \"flu\", \"folk\", \"free\", \"free\", \"full\", \"full\", \"full\", \"fullblown\", \"fullblown\", \"germany\", \"global\", \"good\", \"good\", \"good\", \"government\", \"government\", \"gradual\", \"group\", \"head\", \"head\", \"health\", \"health\", \"health\", \"health\", \"high\", \"hirewire\", \"hoax\", \"hospital\", \"hospital\", \"hselive\", \"httpstcobv3mn5xdle\", \"httpstcoipdmndwmpv\", \"httpstcokudpxpqq22\", \"httpstcoxivwoctrfp\", \"httpstcoxsjd4tjile\", \"huge\", \"huge\", \"huge\", \"icu\", \"impact\", \"india\", \"inpatient\", \"intervention\", \"issue\", \"jammu\", \"jrigger\", \"june\", \"june\", \"june\", \"last\", \"leader\", \"lift\", \"little\", \"lockdown\", \"long\", \"manner\", \"many\", \"mask\", \"mask\", \"medical\", \"midst\", \"midst\", \"midst\", \"million\", \"million\", \"minute\", \"money\", \"monitoring\", \"more\", \"more\", \"mrna\", \"mrna\", \"muchneeded\", \"new\", \"new\", \"new\", \"next\", \"ontario\", \"open\", \"order\", \"overview\", \"overwhelm\", \"oxygen\", \"pace\", \"palestinian\", \"palestinian\", \"palestinian\", \"part\", \"patent\", \"patient\", \"patient\", \"people\", \"people\", \"people\", \"people\", \"people\", \"pfizer\", \"pfizer\", \"place\", \"place\", \"pleased\", \"policy\", \"politician\", \"positive\", \"possible\", \"potential\", \"ppe\", \"pregnant\", \"production\", \"public\", \"qualified\", \"question\", \"question\", \"rebound\", \"request\", \"response\", \"response\", \"restriction\", \"risk\", \"risk\", \"risk\", \"rural\", \"safe\", \"safety\", \"sarscov2\", \"science\", \"search\", \"shingle\", \"side\", \"sinovac\", \"size\", \"sobering\", \"solution\", \"south\", \"staff\", \"street\", \"supply\", \"support\", \"sure\", \"surge\", \"system\", \"system\", \"technology\", \"text\", \"third\", \"third\", \"third\", \"threat\", \"time\", \"time\", \"today\", \"total\", \"trajectory\", \"travel\", \"twitter\", \"ugandan\", \"uk\", \"un\", \"unlock\", \"update\", \"urgent\", \"usfda\", \"vaccination\", \"vaccine\", \"vaccine\", \"vaccine\", \"vaccine\", \"vaccine\", \"vaer\", \"variant\", \"variant\", \"vax\", \"virus\", \"virus\", \"wave\", \"wave\", \"wave\", \"way\", \"wecandothis\", \"week\", \"welcome\", \"whoafro\", \"worker\", \"worker\", \"world\", \"world\", \"world\", \"young\", \"zip\", \"\\ud83d\\udcf1\"]}, \"R\": 30, \"lambda.step\": 0.01, \"plot.opts\": {\"xlab\": \"PC1\", \"ylab\": \"PC2\"}, \"topic.order\": [3, 2, 4, 1, 5]};\n",
       "\n",
       "function LDAvis_load_lib(url, callback){\n",
       "  var s = document.createElement('script');\n",
       "  s.src = url;\n",
       "  s.async = true;\n",
       "  s.onreadystatechange = s.onload = callback;\n",
       "  s.onerror = function(){console.warn(\"failed to load library \" + url);};\n",
       "  document.getElementsByTagName(\"head\")[0].appendChild(s);\n",
       "}\n",
       "\n",
       "if(typeof(LDAvis) !== \"undefined\"){\n",
       "   // already loaded: just create the visualization\n",
       "   !function(LDAvis){\n",
       "       new LDAvis(\"#\" + \"ldavis_el362591404455317548963306128165\", ldavis_el362591404455317548963306128165_data);\n",
       "   }(LDAvis);\n",
       "}else if(typeof define === \"function\" && define.amd){\n",
       "   // require.js is available: use it to load d3/LDAvis\n",
       "   require.config({paths: {d3: \"https://d3js.org/d3.v5\"}});\n",
       "   require([\"d3\"], function(d3){\n",
       "      window.d3 = d3;\n",
       "      LDAvis_load_lib(\"https://cdn.jsdelivr.net/gh/bmabey/pyLDAvis@3.3.1/pyLDAvis/js/ldavis.v3.0.0.js\", function(){\n",
       "        new LDAvis(\"#\" + \"ldavis_el362591404455317548963306128165\", ldavis_el362591404455317548963306128165_data);\n",
       "      });\n",
       "    });\n",
       "}else{\n",
       "    // require.js not available: dynamically load d3 & LDAvis\n",
       "    LDAvis_load_lib(\"https://d3js.org/d3.v5.js\", function(){\n",
       "         LDAvis_load_lib(\"https://cdn.jsdelivr.net/gh/bmabey/pyLDAvis@3.3.1/pyLDAvis/js/ldavis.v3.0.0.js\", function(){\n",
       "                 new LDAvis(\"#\" + \"ldavis_el362591404455317548963306128165\", ldavis_el362591404455317548963306128165_data);\n",
       "            })\n",
       "         });\n",
       "}\n",
       "</script>"
      ],
      "text/plain": [
       "PreparedData(topic_coordinates=              x         y  topics  cluster       Freq\n",
       "topic                                                \n",
       "2      0.274772 -0.156321       1        1  24.495925\n",
       "1     -0.082191  0.137626       2        1  21.638177\n",
       "3      0.004433  0.122795       3        1  19.783544\n",
       "0      0.029293  0.118001       4        1  18.691141\n",
       "4     -0.226307 -0.222102       5        1  15.391213, topic_info=            Term         Freq        Total Category  logprob  loglift\n",
       "0         africa  1240.000000  1240.000000  Default  30.0000  30.0000\n",
       "334  vaccination   436.000000   436.000000  Default  29.0000  29.0000\n",
       "373      ontario   436.000000   436.000000  Default  28.0000  28.0000\n",
       "41         today   436.000000   436.000000  Default  27.0000  27.0000\n",
       "129        india   409.000000   409.000000  Default  26.0000  26.0000\n",
       "..           ...          ...          ...      ...      ...      ...\n",
       "115          day   113.060769   391.242003   Topic5  -4.2659   0.6300\n",
       "307         free    66.270710   112.122268   Topic5  -4.8001   1.3455\n",
       "87    government    78.514313   213.510128   Topic5  -4.6305   0.8710\n",
       "58       covid19   148.435804  2147.020417   Topic5  -3.9937  -0.8003\n",
       "199       people    75.967490   470.854044   Topic5  -4.6635   0.0471\n",
       "\n",
       "[260 rows x 6 columns], token_table=      Topic      Freq     Term\n",
       "term                          \n",
       "2516      2  0.989789     21st\n",
       "257       1  0.996148      2nd\n",
       "126       1  0.992132   action\n",
       "411       2  0.994045  adverse\n",
       "0         1  0.132241   africa\n",
       "...     ...       ...      ...\n",
       "193       2  0.298086    world\n",
       "193       4  0.402070    world\n",
       "437       2  0.993847    young\n",
       "82        1  0.993931      zip\n",
       "83        1  0.989813        📱\n",
       "\n",
       "[271 rows x 3 columns], R=30, lambda_step=0.01, plot_opts={'xlab': 'PC1', 'ylab': 'PC2'}, topic_order=[3, 2, 4, 1, 5])"
      ]
     },
     "execution_count": 19,
     "metadata": {},
     "output_type": "execute_result"
    }
   ],
   "source": [
    "pyLDAvis.enable_notebook()\n",
    "LDAvis_prepared = gensimvis.prepare(lda_model, doc_term_matrix, dictionary)\n",
    "LDAvis_prepared"
   ]
  },
  {
   "cell_type": "code",
   "execution_count": 20,
   "metadata": {
    "colab": {
     "base_uri": "https://localhost:8080/"
    },
    "id": "dF_rzJYJPPYd",
    "outputId": "286856bc-b153-48fe-959f-9562c0f1628f"
   },
   "outputs": [
    {
     "name": "stderr",
     "output_type": "stream",
     "text": [
      "/home/bethelhem/.local/lib/python3.8/site-packages/ipykernel/ipkernel.py:283: DeprecationWarning: `should_run_async` will not call `transform_cell` automatically in the future. Please pass the result to `transformed_cell` argument and any exception that happen during thetransform in `preprocessing_exc_tuple` in IPython 7.17 and above.\n",
      "  and should_run_async(code)\n"
     ]
    },
    {
     "name": "stdout",
     "output_type": "stream",
     "text": [
      "\n",
      "Perplexity:  -5.438309779903436\n",
      "\n",
      "Coherence Score:  0.435861087866523\n"
     ]
    }
   ],
   "source": [
    "print('\\nPerplexity: ', lda_model.log_perplexity(doc_term_matrix,total_docs=10000)) \n",
    "coherence_model_lda = CoherenceModel(model=lda_model, texts=tokenized_reviews, dictionary=dictionary , coherence='c_v')\n",
    "coherence_lda = coherence_model_lda.get_coherence()\n",
    "print('\\nCoherence Score: ', coherence_lda)"
   ]
  },
  {
   "cell_type": "code",
   "execution_count": null,
   "metadata": {},
   "outputs": [],
   "source": []
  },
  {
   "cell_type": "code",
   "execution_count": null,
   "metadata": {},
   "outputs": [],
   "source": []
  },
  {
   "cell_type": "code",
   "execution_count": null,
   "metadata": {},
   "outputs": [],
   "source": []
  }
 ],
 "metadata": {
  "colab": {
   "name": "topic_modeling.ipynb",
   "provenance": []
  },
  "kernelspec": {
   "display_name": "Python 3",
   "language": "python",
   "name": "python3"
  },
  "language_info": {
   "codemirror_mode": {
    "name": "ipython",
    "version": 3
   },
   "file_extension": ".py",
   "mimetype": "text/x-python",
   "name": "python",
   "nbconvert_exporter": "python",
   "pygments_lexer": "ipython3",
   "version": "3.8.5"
  }
 },
 "nbformat": 4,
 "nbformat_minor": 1
}
