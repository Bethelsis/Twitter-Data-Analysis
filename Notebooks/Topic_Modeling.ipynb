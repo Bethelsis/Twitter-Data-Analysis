{
 "cells": [
  {
   "cell_type": "code",
   "execution_count": 1,
   "metadata": {
    "id": "8L1nukvpOEqn"
   },
   "outputs": [],
   "source": [
    "import pandas as pd\n",
    "import numpy as np\n",
    "import matplotlib.pyplot as plt\n",
    "import re\n",
    "import string\n",
    "import spacy\n",
    "import gensim\n",
    "from gensim import corpora\n",
    "import pyLDAvis\n",
    "import pyLDAvis.gensim_models as gensimvis\n",
    "import matplotlib.pyplot as plt\n",
    "import seaborn as sns\n",
    "from nltk.corpus import stopwords\n",
    "import nltk\n",
    "import pyLDAvis.gensim_models as gensimvis\n",
    "import pickle \n",
    "import pyLDAvis\n",
    "from gensim.models.coherencemodel import CoherenceModel"
   ]
  },
  {
   "cell_type": "code",
   "execution_count": 2,
   "metadata": {
    "id": "UMS5hPkEOI9i"
   },
   "outputs": [],
   "source": [
    "df = pd.read_csv(\"../data/clean_processed_tweet_data.csv\")"
   ]
  },
  {
   "cell_type": "code",
   "execution_count": 3,
   "metadata": {
    "id": "rnKkUwxvOLPt"
   },
   "outputs": [],
   "source": [
    "Clean_Tweet = df[['original_text','polarity']]"
   ]
  },
  {
   "cell_type": "code",
   "execution_count": 4,
   "metadata": {
    "id": "r0YjWJCyONpr"
   },
   "outputs": [],
   "source": [
    "def text_category (p):\n",
    "  if p > 0:\n",
    "    return 'positive'\n",
    "  elif p < 0:\n",
    "    return 'negative'\n",
    "  else:\n",
    "    return 'neutral'"
   ]
  },
  {
   "cell_type": "code",
   "execution_count": 5,
   "metadata": {
    "colab": {
     "base_uri": "https://localhost:8080/",
     "height": 328
    },
    "id": "RLL1AQ8iOPLR",
    "outputId": "36a38ede-6a95-4dfd-d15a-c1d6197b0cf5"
   },
   "outputs": [
    {
     "name": "stderr",
     "output_type": "stream",
     "text": [
      "/tmp/ipykernel_24506/1328451164.py:11: UserWarning: FixedFormatter should only be used together with FixedLocator\n",
      "  ax.set_xticklabels(labels,fontsize=20)\n",
      "/tmp/ipykernel_24506/1328451164.py:13: UserWarning: Matplotlib is currently using module://matplotlib_inline.backend_inline, which is a non-GUI backend, so cannot show the figure.\n",
      "  fig.show()\n"
     ]
    },
    {
     "data": {
      "image/png": "[encoded data removed]",
      "text/plain": [
       "<Figure size 1080x504 with 1 Axes>"
      ]
     },
     "metadata": {
      "needs_background": "light"
     },
     "output_type": "display_data"
    }
   ],
   "source": [
    "score = pd.Series([text_category(val) for val in Clean_Tweet['polarity']])\n",
    "Clean_Tweet = pd.concat([Clean_Tweet, score.rename(\"score\")], axis=1)\n",
    "\n",
    "labels = ['neutral', 'positive', 'negative']\n",
    "positive = len(Clean_Tweet[Clean_Tweet['score'] == \"positive\"])\n",
    "negative = len(Clean_Tweet[Clean_Tweet['score'] == \"negative\"])\n",
    "neutral = len(Clean_Tweet[Clean_Tweet['score'] == \"neutral\"])\n",
    "fig, ax = plt.subplots(1, 1, figsize = (15,7))\n",
    "ax.bar(x=labels, height=[negative, positive, neutral], color='#009B77')\n",
    "ax.set_title('Barchart of score column\\n',fontsize = 20,fontname = 'monospace', color = '#283655')\n",
    "ax.set_xticklabels(labels,fontsize=20)\n",
    "\n",
    "fig.show()"
   ]
  },
  {
   "cell_type": "code",
   "execution_count": 6,
   "metadata": {
    "id": "j3kPNt5WOTKp"
   },
   "outputs": [],
   "source": [
    "Clean_Tweet = Clean_Tweet.drop(Clean_Tweet[Clean_Tweet.score == 'neutral'].index)\n",
    "scoremap = pd.Series([1 if val == 'positive' else 0 for val in Clean_Tweet['score']])\n",
    "Clean_Tweet['scoremap'] = scoremap"
   ]
  },
  {
   "cell_type": "code",
   "execution_count": 7,
   "metadata": {
    "colab": {
     "base_uri": "https://localhost:8080/",
     "height": 295
    },
    "id": "_fq5uOoGOVF1",
    "outputId": "ac132a31-bcd0-435c-99e4-256fdb377c84"
   },
   "outputs": [
    {
     "data": {
      "text/plain": [
       "<Figure size 432x288 with 0 Axes>"
      ]
     },
     "metadata": {},
     "output_type": "display_data"
    },
    {
     "data": {
      "image/png": "[encoded data removed]",
      "text/plain": [
       "<Figure size 720x504 with 1 Axes>"
      ]
     },
     "metadata": {
      "needs_background": "light"
     },
     "output_type": "display_data"
    }
   ],
   "source": [
    "fig=plt.figure()\n",
    "fig, ax = plt.subplots(1, 1, figsize = (10,7))\n",
    "ax.hist(Clean_Tweet['scoremap'],bins = 5,color='#009B77')\n",
    "plt.title('Barchart of score column\\n',fontsize = 20,fontname = 'monospace', color = '#283655')\n",
    "plt.xlabel('Sentiment', fontsize=17)\n",
    "plt.ylabel('Analysis', fontsize=17)\n",
    "plt.show()"
   ]
  },
  {
   "cell_type": "code",
   "execution_count": 8,
   "metadata": {
    "id": "0xsn7HTkQntc"
   },
   "outputs": [],
   "source": [
    "Clean_Tweet['original_text']=Clean_Tweet['original_text'].astype(str)\n",
    "Clean_Tweet['original_text'] = Clean_Tweet['original_text'].apply(lambda x: x.lower())\n",
    "Clean_Tweet['original_text']= Clean_Tweet['original_text'].apply(lambda x: x.translate(str.maketrans(' ', ' ', string.punctuation)))"
   ]
  },
  {
   "cell_type": "code",
   "execution_count": 9,
   "metadata": {},
   "outputs": [
    {
     "name": "stderr",
     "output_type": "stream",
     "text": [
      "[nltk_data] Downloading package stopwords to /home/beth/nltk_data...\n",
      "[nltk_data]   Package stopwords is already up-to-date!\n"
     ]
    }
   ],
   "source": [
    "nltk.download('stopwords')\n",
    "stop_words = stopwords.words('english')"
   ]
  },
  {
   "cell_type": "code",
   "execution_count": 10,
   "metadata": {
    "id": "YBMzrn2yRBgL"
   },
   "outputs": [],
   "source": [
    "def remove_stopwords(text):\n",
    "    textArr = text.split(' ')\n",
    "    rem_text = \" \".join([i for i in textArr if i not in stop_words])\n",
    "    return rem_text"
   ]
  },
  {
   "cell_type": "code",
   "execution_count": 11,
   "metadata": {
    "id": "SoVLbdUSRFna"
   },
   "outputs": [],
   "source": [
    "Clean_Tweet['original_text']=Clean_Tweet['original_text'].apply(remove_stopwords)"
   ]
  },
  {
   "cell_type": "code",
   "execution_count": 17,
   "metadata": {
    "colab": {
     "base_uri": "https://localhost:8080/"
    },
    "id": "PrJO8RcqOyxB",
    "outputId": "09b81c25-7e86-4b99-b1d6-55242175c00c"
   },
   "outputs": [],
   "source": [
    "nlp = spacy.load('en_core_web_md', disable=['parser', 'ner'])\n",
    "\n",
    "def lemmatization(texts,allowed_postags=['NOUN', 'ADJ']): \n",
    "       output = []\n",
    "       for sent in texts:\n",
    "             doc = nlp(sent) \n",
    "             output.append([token.lemma_ for token in doc if token.pos_ in allowed_postags ])\n",
    "       return output"
   ]
  },
  {
   "cell_type": "code",
   "execution_count": 18,
   "metadata": {
    "id": "FIewsXQZO5CP"
   },
   "outputs": [
    {
     "name": "stdout",
     "output_type": "stream",
     "text": [
      "dr moeti head africa one best public health experts leaders know desperate request vaccines africa plead germany uk lift patent restrictions urgently transfer technology enable production africa httpstcosogiroihoc\n",
      "['good', 'public', 'health', 'expert', 'leader', 'desperate', 'request', 'vaccine', 'lift', 'patent', 'restriction', 'technology']\n"
     ]
    }
   ],
   "source": [
    "text_list=Clean_Tweet['original_text'].tolist()\n",
    "print(text_list[1])\n",
    "tokenized_reviews = lemmatization(text_list)\n",
    "print(tokenized_reviews[1])"
   ]
  },
  {
   "cell_type": "code",
   "execution_count": 19,
   "metadata": {
    "id": "yvDkXYqLPFbg"
   },
   "outputs": [],
   "source": [
    "dictionary = corpora.Dictionary(tokenized_reviews)\n",
    "doc_term_matrix = [dictionary.doc2bow(rev) for rev in tokenized_reviews]"
   ]
  },
  {
   "cell_type": "code",
   "execution_count": 20,
   "metadata": {
    "id": "x5Z-V1CYPHFq"
   },
   "outputs": [],
   "source": [
    "LDA = gensim.models.ldamodel.LdaModel\n",
    "lda_model = LDA(corpus=doc_term_matrix, id2word=dictionary, num_topics=5, random_state=100,\n",
    "                chunksize=500, passes=50,iterations=100)"
   ]
  },
  {
   "cell_type": "code",
   "execution_count": 21,
   "metadata": {
    "colab": {
     "base_uri": "https://localhost:8080/"
    },
    "id": "lAGZoTU5PH0w",
    "outputId": "f0d046e8-57c4-4813-9889-de4f35987cb0"
   },
   "outputs": [
    {
     "data": {
      "text/plain": [
       "[(0,\n",
       "  '0.041*\"case\" + 0.034*\"death\" + 0.033*\"covid19\" + 0.032*\"coronavirus\" + 0.026*\"vaccine\" + 0.025*\"country\" + 0.025*\"amp\" + 0.023*\"week\" + 0.021*\"wave\" + 0.021*\"third\"'),\n",
       " (1,\n",
       "  '0.082*\"vaccine\" + 0.054*\"covid19\" + 0.026*\"safe\" + 0.019*\"system\" + 0.018*\"safety\" + 0.017*\"doctor\" + 0.014*\"covidvaccination\" + 0.013*\"medical\" + 0.012*\"adverse\" + 0.011*\"possible\"'),\n",
       " (2,\n",
       "  '0.063*\"vaccine\" + 0.040*\"risk\" + 0.035*\"good\" + 0.034*\"public\" + 0.030*\"health\" + 0.030*\"people\" + 0.029*\"covid19\" + 0.026*\"expert\" + 0.025*\"technology\" + 0.024*\"leader\"'),\n",
       " (3,\n",
       "  '0.057*\"vaccine\" + 0.055*\"covid19\" + 0.030*\"third\" + 0.029*\"wave\" + 0.029*\"health\" + 0.027*\"oxygen\" + 0.025*\"case\" + 0.024*\"dose\" + 0.023*\"midst\" + 0.022*\"covid\"'),\n",
       " (4,\n",
       "  '0.147*\"vaccine\" + 0.057*\"covid19\" + 0.035*\"dose\" + 0.035*\"vaccination\" + 0.030*\"world\" + 0.026*\"day\" + 0.019*\"today\" + 0.017*\"huge\" + 0.016*\"way\" + 0.016*\"2nd\"')]"
      ]
     },
     "execution_count": 21,
     "metadata": {},
     "output_type": "execute_result"
    }
   ],
   "source": [
    "lda_model.print_topics()"
   ]
  },
  {
   "cell_type": "code",
   "execution_count": 22,
   "metadata": {
    "colab": {
     "base_uri": "https://localhost:8080/",
     "height": 881
    },
    "id": "h0hldQnOPKyJ",
    "outputId": "c6e013f6-7372-4cce-daa6-d991a07cb5a7"
   },
   "outputs": [
    {
     "name": "stderr",
     "output_type": "stream",
     "text": [
      "/home/beth/.local/lib/python3.8/site-packages/pyLDAvis/_prepare.py:246: FutureWarning: In a future version of pandas all arguments of DataFrame.drop except for the argument 'labels' will be keyword-only\n",
      "  default_term_info = default_term_info.sort_values(\n"
     ]
    },
    {
     "data": {
      "text/html": [
       "\n",
       "<link rel=\"stylesheet\" type=\"text/css\" href=\"https://cdn.jsdelivr.net/gh/bmabey/pyLDAvis@3.3.1/pyLDAvis/js/ldavis.v1.0.0.css\">\n",
       "\n",
       "\n",
       "<div id=\"ldavis_el245061402742461679043673477220\"></div>\n",
       "<script type=\"text/javascript\">\n",
       "\n",
       "var ldavis_el245061402742461679043673477220_data = {\"mdsDat\": {\"x\": [-0.014412210186988078, 0.15641222922412654, 0.2048370152744832, -0.29340567123129985, -0.05343136308032161], \"y\": [-0.16921151614616428, -0.04767016836690016, 0.220580905050621, 0.16819843573578086, -0.17189765627333745], \"topics\": [1, 2, 3, 4, 5], \"cluster\": [1, 1, 1, 1, 1], \"Freq\": [28.576580953233655, 22.613827434121408, 18.191636575350003, 16.54259351248436, 14.075361524810578]}, \"tinfo\": {\"Term\": [\"case\", \"vaccination\", \"risk\", \"death\", \"dose\", \"public\", \"coronavirus\", \"good\", \"third\", \"oxygen\", \"health\", \"wave\", \"vaccine\", \"people\", \"expert\", \"country\", \"technology\", \"day\", \"leader\", \"week\", \"safe\", \"patent\", \"today\", \"restriction\", \"place\", \"desperate\", \"midst\", \"request\", \"lift\", \"system\", \"vaccination\", \"2nd\", \"fast\", \"beautiful\", \"capita\", \"fish\", \"pace\", \"support\", \"full\", \"lockdown\", \"effect\", \"jab\", \"afternoon\", \"visit\", \"solution\", \"side\", \"alone\", \"flu\", \"shingle\", \"order\", \"deltavariant\", \"politician\", \"coverage\", \"global\", \"21st\", \"centre\", \"capacity\", \"help\", \"mrna\", \"important\", \"day\", \"virus\", \"huge\", \"vaccine\", \"dose\", \"world\", \"government\", \"more\", \"covid19\", \"today\", \"way\", \"pandemic\", \"mask\", \"free\", \"new\", \"variant\", \"people\", \"amp\", \"oxygen\", \"action\", \"trajectory\", \"urgent\", \"overwhelm\", \"failure\", \"code\", \"search\", \"easy\", \"pleased\", \"bus\", \"httpstcoammcmmctip\", \"httpstcod2pdwips8o\", \"money\", \"ppe\", \"dailymonitor\", \"overstretched\", \"stand\", \"million\", \"blown\", \"call\", \"critical\", \"curb\", \"httpstcokudpxpqq22\", \"moetitshidi\", \"httpstcocemrzeidyr\", \"sobering\", \"palestinian\", \"intervention\", \"overview\", \"covid\", \"third\", \"midst\", \"wave\", \"response\", \"health\", \"worker\", \"covid19\", \"case\", \"today\", \"system\", \"vaccine\", \"dose\", \"way\", \"patient\", \"world\", \"death\", \"coronavirus\", \"country\", \"week\", \"continent\", \"total\", \"last\", \"head\", \"httpstcocrdhqphfwm\", \"jrigger\", \"whoafro\", \"bad\", \"video\", \"market\", \"folk\", \"manner\", \"thing\", \"gradual\", \"street\", \"hselive\", \"icu\", \"inpatient\", \"department\", \"httpstcoipdmndwmpv\", \"high\", \"impact\", \"benefit\", \"tomorrow\", \"past\", \"tonight\", \"supply\", \"hospital\", \"case\", \"amp\", \"fullblown\", \"less\", \"new\", \"third\", \"wave\", \"people\", \"covid19\", \"midst\", \"vaccine\", \"year\", \"risk\", \"public\", \"expert\", \"technology\", \"leader\", \"patent\", \"restriction\", \"place\", \"desperate\", \"request\", \"lift\", \"part\", \"deadly\", \"child\", \"threat\", \"surge\", \"little\", \"south\", \"httpstcoxsjd4tjile\", \"group\", \"staff\", \"travel\", \"long\", \"young\", \"woman\", \"bakarwal\", \"distance\", \"httpstcosfnnxzfsrv\", \"karyakarta\", \"remote\", \"good\", \"many\", \"delta\", \"question\", \"people\", \"health\", \"community\", \"old\", \"variant\", \"vaccine\", \"covid19\", \"covid\", \"safety\", \"covidvaccination\", \"medical\", \"adverse\", \"possible\", \"event\", \"sinovac\", \"vaer\", \"potential\", \"issue\", \"sure\", \"monitoring\", \"httpstcoxse61xdkce\", \"number\", \"vaccinated\", \"infectious\", \"dozen\", \"trial\", \"due\", \"pm\", \"drop\", \"one\", \"volunteer\", \"danger\", \"ill\", \"future\", \"mandate\", \"neighbour\", \"cuban\", \"budget\", \"safe\", \"efficacy\", \"doctor\", \"effective\", \"sarscov2\", \"concern\", \"system\", \"vaccine\", \"covid19\", \"worker\", \"variant\", \"patient\", \"time\", \"day\"], \"Freq\": [557.0, 429.0, 282.0, 264.0, 660.0, 243.0, 253.0, 273.0, 450.0, 263.0, 541.0, 474.0, 3501.0, 456.0, 185.0, 194.0, 180.0, 365.0, 173.0, 183.0, 179.0, 169.0, 441.0, 164.0, 164.0, 163.0, 322.0, 162.0, 160.0, 269.0, 428.98255452315465, 193.74453074549152, 188.9343560532627, 187.34775183935395, 187.34775183935395, 187.34775183935395, 187.34775183935395, 158.55533980327974, 94.53074371778101, 84.78645692025181, 83.30393047503746, 74.89337678483905, 67.10134664263671, 63.99938654266504, 61.6284119286068, 61.28085104145758, 60.887308404461024, 60.756258706341164, 59.906275052626334, 59.87795709331201, 58.0857582209132, 56.26248088722461, 56.021969300854934, 58.831065236703424, 53.69922932565293, 53.69922932565293, 49.605307936274315, 48.7283580566505, 43.77598899510339, 41.95469648514921, 321.10017531273854, 131.97365638229195, 214.22640595632922, 1805.2064033352874, 429.4291626774645, 363.0026561045297, 155.15084237523783, 86.90048241345016, 693.6228445398413, 236.1498107359359, 198.3854592897459, 97.42032767817001, 92.1794462355726, 78.311077853528, 100.63997413715309, 91.06607419089397, 87.94696361687232, 76.8489072586244, 262.46926362400717, 159.25491287737188, 153.39384763741032, 152.26164522495583, 150.63346222193545, 141.1221802316074, 136.89257474331262, 131.88088247065843, 130.82820665758305, 130.13485386549343, 126.88412061745639, 125.71038564158039, 125.71038564158039, 123.26677064896722, 121.00775485695596, 120.1063872003837, 120.1063872003837, 120.1063872003837, 108.69497012309719, 99.09096427024677, 75.17154767610802, 72.55793442210927, 70.44035591981101, 67.09075603389658, 59.27974551680929, 52.32458473604805, 52.32458473604805, 50.416582744281556, 50.18182130613712, 49.57912974002527, 217.80721568125668, 286.14473846767817, 218.13373510835558, 285.7776523507257, 75.18466369754933, 279.2477512589599, 127.55234264306796, 531.7379521995148, 240.39675977517658, 204.38588792393008, 152.68910295333248, 550.0942800628299, 230.68043275591592, 147.40606339607717, 127.65844430584913, 122.85824223715106, 263.4039737822907, 252.29934179182553, 193.43655755233712, 182.88241531608207, 114.67228484171933, 113.8696058901427, 111.33807046995986, 108.10697126427499, 104.92764749056984, 104.92764749056984, 102.47935941291372, 61.959942653747504, 56.623191817846454, 55.251676600292974, 54.440530586487945, 51.77384168243325, 51.90562576932916, 50.91515739857841, 50.91515739857841, 49.67840716761616, 49.36604809235566, 47.73006425871506, 42.73056537056069, 41.73879716778688, 42.46295609888714, 43.79483370136892, 40.599323751242615, 36.89657069279052, 34.90636810960512, 32.256950995867925, 72.49031030875408, 116.26471704095624, 317.01680183535035, 192.95010086393305, 104.32805458474026, 69.83627842825346, 124.84931603539788, 163.70947180142684, 164.86577041795667, 157.37127300807754, 260.8840134025813, 104.28146395758992, 204.1625680808917, 56.85099282611007, 282.02157898411764, 242.92272543850436, 184.87926153644875, 179.84277419922608, 173.05192833468655, 168.6003284250018, 163.93220381564257, 163.31650503559834, 162.827709935894, 161.3926246391127, 160.10500593559553, 111.2605730985763, 105.51794053997239, 103.73835711626158, 102.83560958065623, 101.39088335488667, 100.59004572138794, 96.97280878525217, 95.98349099003312, 52.55123136210545, 48.3995270760275, 45.276159934066946, 44.10488941432272, 44.0094012953949, 44.05956714301391, 42.55780755856523, 42.55780755856523, 42.55780755856523, 42.55780755856523, 42.55780755856523, 246.97450413696947, 124.94279462417398, 119.76536482919431, 74.5082952551993, 210.72881088829294, 214.47200061862182, 58.028243120331005, 57.19027470347546, 119.18782035578991, 449.2488542266639, 203.38992443440347, 65.42316582312071, 109.83151766376747, 84.4279042751621, 76.15351439869764, 70.64102076279124, 68.33369656128882, 67.97211665901425, 58.43707680985214, 57.60001273432461, 57.27125623021782, 56.769820109663094, 55.9829743725169, 52.82424763055642, 51.30631997461653, 42.751464779812494, 41.81511582427419, 41.141688356062275, 40.344771420488186, 34.992298873800685, 33.36609670466472, 32.9995753133986, 30.62446365915836, 30.600107371746965, 28.584856352434617, 27.40674525867979, 27.514171375244004, 27.27704170737828, 26.378980161428196, 25.581987375824102, 24.234727905906936, 23.970988923812758, 159.47517126964019, 56.490354888015396, 100.09391328633707, 58.939383801121686, 34.854926041687975, 51.76851072779672, 115.83900859545962, 493.1767602212434, 322.9702143366635, 59.05587259164082, 66.31864780872314, 58.98214074395922, 49.560190480268055, 44.03750203847747], \"Total\": [557.0, 429.0, 282.0, 264.0, 660.0, 243.0, 253.0, 273.0, 450.0, 263.0, 541.0, 474.0, 3501.0, 456.0, 185.0, 194.0, 180.0, 365.0, 173.0, 183.0, 179.0, 169.0, 441.0, 164.0, 164.0, 163.0, 322.0, 162.0, 160.0, 269.0, 429.7578952279398, 194.51419531128934, 189.70377002738118, 188.11714952935725, 188.11714952935725, 188.11714952935725, 188.11714952935725, 159.34623756338186, 95.30735840639015, 85.56827100594856, 84.07787884103787, 75.67544315792124, 67.8819786663537, 64.76944234380878, 62.40129071279124, 62.05053913818274, 61.65673662768617, 61.52576550046367, 60.675669641778754, 60.64815834132805, 58.866783873333816, 57.032206489158064, 56.794745950624105, 59.67007589243883, 54.471076621266796, 54.471076621266796, 50.37661866730931, 49.50158522313241, 44.5531883577682, 42.738244956902186, 365.709424077673, 143.93723644587223, 248.9886838461557, 3501.888865926916, 660.685375957376, 556.6814524022116, 204.0862549769586, 98.50695849770929, 2012.6049489130041, 441.1167232753382, 346.3803130565588, 135.39317385775436, 141.44624370081704, 104.82340609685916, 257.544493663261, 276.9590295143416, 456.4536598806338, 350.8399969780739, 263.2323672609054, 160.01648337712996, 154.15205764249276, 153.02005230477454, 151.39146909133345, 141.88430818531913, 137.65234311716526, 132.63963465873798, 131.58754001510246, 130.89424217204896, 127.64257031731911, 126.46839419245494, 126.46839419245494, 124.02543428804915, 121.76667236372101, 120.86439408170624, 120.86439408170624, 120.86439408170624, 109.46694796845678, 99.84897717526853, 75.93571869136414, 73.31858339832567, 71.20101719291489, 67.84876050218796, 60.03791465181057, 53.08259014488301, 53.08259014488301, 51.176460550830306, 50.94201583703378, 50.338141080426105, 283.8140448110066, 450.42568150091006, 322.9863838071721, 474.259307272245, 84.93486325347097, 541.8570113944088, 187.17367526083905, 2012.6049489130041, 557.9876486423502, 441.1167232753382, 269.088271757675, 3501.888865926916, 660.685375957376, 346.3803130565588, 240.41127969445841, 556.6814524022116, 264.17528424738725, 253.06803287591137, 194.22138624162193, 183.65067010813655, 115.44020836266205, 114.63764353105188, 112.10576668948818, 108.87439135361818, 105.69519873475502, 105.69519873475502, 103.24671882971604, 62.741597761022824, 57.397649935742564, 56.02022308277891, 55.208821211562366, 52.54180474888907, 52.682274954480896, 51.68252355351575, 51.68252355351575, 50.44878664750755, 50.1366844515202, 48.49977165306231, 43.49800091550107, 42.50616136636198, 43.25165997210375, 44.611816030784496, 41.372378218189056, 37.67776553348273, 35.67583656906879, 33.0335054671979, 83.00518609517941, 148.04248708549903, 557.9876486423502, 350.8399969780739, 157.19216414406958, 89.235019845657, 257.544493663261, 450.42568150091006, 474.259307272245, 456.4536598806338, 2012.6049489130041, 322.9863838071721, 3501.888865926916, 75.37564324501398, 282.7911116185483, 243.70585708443414, 185.6503883719731, 180.61567384668925, 173.8211981054763, 169.36868181087053, 164.70006498016002, 164.0844169210286, 163.5956664489042, 162.16072127496378, 160.87273855266423, 112.03456555049654, 106.28986279621938, 104.50809032381308, 103.60519274748671, 102.16091919095565, 101.35941661008737, 97.74100446537626, 96.75122509742121, 53.32432401437879, 49.17743593540897, 46.04511508167612, 44.873329520052124, 44.77789435245859, 44.83911403115363, 43.325540201288504, 43.325540201288504, 43.325540201288504, 43.325540201288504, 43.325540201288504, 273.0492440002834, 134.17649944245795, 140.51330410591294, 97.2324256418319, 456.4536598806338, 541.8570113944088, 71.27460447159304, 70.40974441563259, 276.9590295143416, 3501.888865926916, 2012.6049489130041, 283.8140448110066, 110.58592061953031, 85.22818211424533, 76.91086685989022, 71.39717218213075, 69.08885717849101, 68.72759809886279, 59.19191691861519, 58.354471812484086, 58.02557503883471, 57.52446156502618, 56.73808512914342, 53.57859604695821, 52.06058055946525, 43.51458190377356, 42.5699375663485, 41.8959613503641, 41.09904467008174, 35.75088253205479, 34.12132396428554, 33.77372837460414, 31.3828552965533, 31.360362941515692, 29.340332734894382, 28.162085083882815, 28.289277125747805, 28.047238783217985, 27.134540733273774, 26.337578541690327, 24.989342643418762, 24.727229603297985, 179.0285987364905, 68.4701087865837, 161.70658516703884, 83.52511744996391, 40.91461390664491, 75.91891310575149, 269.088271757675, 3501.888865926916, 2012.6049489130041, 187.17367526083905, 276.9590295143416, 240.41127969445841, 140.603451937056, 365.709424077673], \"Category\": [\"Default\", \"Default\", \"Default\", \"Default\", \"Default\", \"Default\", \"Default\", \"Default\", \"Default\", \"Default\", \"Default\", \"Default\", \"Default\", \"Default\", \"Default\", \"Default\", \"Default\", \"Default\", \"Default\", \"Default\", \"Default\", \"Default\", \"Default\", \"Default\", \"Default\", \"Default\", \"Default\", \"Default\", \"Default\", \"Default\", \"Topic1\", \"Topic1\", \"Topic1\", \"Topic1\", \"Topic1\", \"Topic1\", \"Topic1\", \"Topic1\", \"Topic1\", \"Topic1\", \"Topic1\", \"Topic1\", \"Topic1\", \"Topic1\", \"Topic1\", \"Topic1\", \"Topic1\", \"Topic1\", \"Topic1\", \"Topic1\", \"Topic1\", \"Topic1\", \"Topic1\", \"Topic1\", \"Topic1\", \"Topic1\", \"Topic1\", \"Topic1\", \"Topic1\", \"Topic1\", \"Topic1\", \"Topic1\", \"Topic1\", \"Topic1\", \"Topic1\", \"Topic1\", \"Topic1\", \"Topic1\", \"Topic1\", \"Topic1\", \"Topic1\", \"Topic1\", \"Topic1\", \"Topic1\", \"Topic1\", \"Topic1\", \"Topic1\", \"Topic1\", \"Topic2\", \"Topic2\", \"Topic2\", \"Topic2\", \"Topic2\", \"Topic2\", \"Topic2\", \"Topic2\", \"Topic2\", \"Topic2\", \"Topic2\", \"Topic2\", \"Topic2\", \"Topic2\", \"Topic2\", \"Topic2\", \"Topic2\", \"Topic2\", \"Topic2\", \"Topic2\", \"Topic2\", \"Topic2\", \"Topic2\", \"Topic2\", \"Topic2\", \"Topic2\", \"Topic2\", \"Topic2\", \"Topic2\", \"Topic2\", \"Topic2\", \"Topic2\", \"Topic2\", \"Topic2\", \"Topic2\", \"Topic2\", \"Topic2\", \"Topic2\", \"Topic2\", \"Topic2\", \"Topic2\", \"Topic2\", \"Topic2\", \"Topic2\", \"Topic2\", \"Topic2\", \"Topic3\", \"Topic3\", \"Topic3\", \"Topic3\", \"Topic3\", \"Topic3\", \"Topic3\", \"Topic3\", \"Topic3\", \"Topic3\", \"Topic3\", \"Topic3\", \"Topic3\", \"Topic3\", \"Topic3\", \"Topic3\", \"Topic3\", \"Topic3\", \"Topic3\", \"Topic3\", \"Topic3\", \"Topic3\", \"Topic3\", \"Topic3\", \"Topic3\", \"Topic3\", \"Topic3\", \"Topic3\", \"Topic3\", \"Topic3\", \"Topic3\", \"Topic3\", \"Topic3\", \"Topic3\", \"Topic3\", \"Topic3\", \"Topic3\", \"Topic3\", \"Topic3\", \"Topic3\", \"Topic3\", \"Topic3\", \"Topic3\", \"Topic3\", \"Topic4\", \"Topic4\", \"Topic4\", \"Topic4\", \"Topic4\", \"Topic4\", \"Topic4\", \"Topic4\", \"Topic4\", \"Topic4\", \"Topic4\", \"Topic4\", \"Topic4\", \"Topic4\", \"Topic4\", \"Topic4\", \"Topic4\", \"Topic4\", \"Topic4\", \"Topic4\", \"Topic4\", \"Topic4\", \"Topic4\", \"Topic4\", \"Topic4\", \"Topic4\", \"Topic4\", \"Topic4\", \"Topic4\", \"Topic4\", \"Topic4\", \"Topic4\", \"Topic4\", \"Topic4\", \"Topic4\", \"Topic4\", \"Topic4\", \"Topic4\", \"Topic4\", \"Topic4\", \"Topic4\", \"Topic4\", \"Topic5\", \"Topic5\", \"Topic5\", \"Topic5\", \"Topic5\", \"Topic5\", \"Topic5\", \"Topic5\", \"Topic5\", \"Topic5\", \"Topic5\", \"Topic5\", \"Topic5\", \"Topic5\", \"Topic5\", \"Topic5\", \"Topic5\", \"Topic5\", \"Topic5\", \"Topic5\", \"Topic5\", \"Topic5\", \"Topic5\", \"Topic5\", \"Topic5\", \"Topic5\", \"Topic5\", \"Topic5\", \"Topic5\", \"Topic5\", \"Topic5\", \"Topic5\", \"Topic5\", \"Topic5\", \"Topic5\", \"Topic5\", \"Topic5\", \"Topic5\", \"Topic5\", \"Topic5\", \"Topic5\", \"Topic5\", \"Topic5\", \"Topic5\"], \"logprob\": [30.0, 29.0, 28.0, 27.0, 26.0, 25.0, 24.0, 23.0, 22.0, 21.0, 20.0, 19.0, 18.0, 17.0, 16.0, 15.0, 14.0, 13.0, 12.0, 11.0, 10.0, 9.0, 8.0, 7.0, 6.0, 5.0, 4.0, 3.0, 2.0, 1.0, -3.3517, -4.1466, -4.1717, -4.1802, -4.1802, -4.1802, -4.1802, -4.347, -4.8642, -4.973, -4.9906, -5.0971, -5.2069, -5.2543, -5.292, -5.2977, -5.3041, -5.3063, -5.3204, -5.3208, -5.3512, -5.3831, -5.3874, -5.3385, -5.4297, -5.4297, -5.509, -5.5269, -5.634, -5.6765, -3.6414, -4.5305, -4.0461, -1.9147, -3.3507, -3.5187, -4.3687, -4.9484, -2.8712, -3.9487, -4.1229, -4.8341, -4.8894, -5.0524, -4.8016, -4.9015, -4.9364, -5.0713, -3.609, -4.1086, -4.1461, -4.1535, -4.1643, -4.2295, -4.2599, -4.2972, -4.3052, -4.3105, -4.3358, -4.3451, -4.3451, -4.3648, -4.3833, -4.3907, -4.3907, -4.3907, -4.4906, -4.5831, -4.8593, -4.8947, -4.9243, -4.9731, -5.0968, -5.2216, -5.2216, -5.2588, -5.2635, -5.2755, -3.7955, -3.5226, -3.794, -3.5239, -4.8592, -3.547, -4.3306, -2.903, -3.6968, -3.8591, -4.1507, -2.869, -3.7381, -4.1859, -4.3298, -4.3681, -3.3878, -3.4309, -3.6966, -3.7527, -4.2194, -4.2265, -4.2489, -4.2784, -4.3082, -4.3082, -4.3318, -4.835, -4.9251, -4.9496, -4.9644, -5.0146, -5.0121, -5.0313, -5.0313, -5.0559, -5.0622, -5.0959, -5.2066, -5.2301, -5.2129, -5.182, -5.2578, -5.3534, -5.4088, -5.4878, -4.6781, -4.2056, -3.2026, -3.6991, -4.314, -4.7154, -4.1344, -3.8634, -3.8564, -3.9029, -3.3974, -4.3144, -3.6426, -4.9211, -3.2245, -3.3737, -3.6468, -3.6744, -3.7129, -3.739, -3.767, -3.7708, -3.7738, -3.7826, -3.7907, -4.1546, -4.2076, -4.2246, -4.2334, -4.2475, -4.2554, -4.2921, -4.3023, -4.9047, -4.987, -5.0537, -5.0799, -5.0821, -5.0809, -5.1156, -5.1156, -5.1156, -5.1156, -5.1156, -3.3572, -4.0386, -4.081, -4.5556, -3.5159, -3.4983, -4.8056, -4.8201, -4.0858, -2.7589, -3.5514, -4.6856, -4.006, -4.2691, -4.3722, -4.4474, -4.4806, -4.4859, -4.637, -4.6515, -4.6572, -4.666, -4.6799, -4.738, -4.7672, -4.9496, -4.9717, -4.988, -5.0075, -5.1498, -5.1974, -5.2085, -5.2832, -5.284, -5.3521, -5.3942, -5.3903, -5.3989, -5.4324, -5.4631, -5.5172, -5.5281, -3.6331, -4.6709, -4.0989, -4.6285, -5.1538, -4.7582, -3.9528, -2.5041, -2.9274, -4.6265, -4.5105, -4.6277, -4.8018, -4.9199], \"loglift\": [30.0, 29.0, 28.0, 27.0, 26.0, 25.0, 24.0, 23.0, 22.0, 21.0, 20.0, 19.0, 18.0, 17.0, 16.0, 15.0, 14.0, 13.0, 12.0, 11.0, 10.0, 9.0, 8.0, 7.0, 6.0, 5.0, 4.0, 3.0, 2.0, 1.0, 1.2508, 1.2486, 1.2485, 1.2485, 1.2485, 1.2485, 1.2485, 1.2476, 1.2444, 1.2434, 1.2433, 1.2422, 1.241, 1.2406, 1.2401, 1.2401, 1.24, 1.24, 1.2398, 1.2398, 1.2392, 1.239, 1.2389, 1.2384, 1.2383, 1.2383, 1.2372, 1.2368, 1.235, 1.2341, 1.1225, 1.1658, 1.1022, 0.59, 0.8218, 0.825, 0.9784, 1.1272, 0.1873, 0.6277, 0.6953, 0.9234, 0.8244, 0.961, 0.3129, 0.1403, -0.3942, -0.2659, 1.4837, 1.4818, 1.4817, 1.4816, 1.4816, 1.4812, 1.4811, 1.4809, 1.4808, 1.4808, 1.4806, 1.4806, 1.4806, 1.4805, 1.4804, 1.4803, 1.4803, 1.4803, 1.4795, 1.479, 1.4765, 1.4762, 1.4759, 1.4754, 1.4739, 1.4722, 1.4722, 1.4716, 1.4716, 1.4714, 1.2219, 1.0329, 1.0941, 0.9801, 1.3647, 0.8237, 1.1031, 0.1556, 0.6446, 0.7173, 0.92, -0.3644, 0.4344, 0.6323, 0.8536, -0.0244, 1.7013, 1.7012, 1.7002, 1.7, 1.6975, 1.6975, 1.6973, 1.6971, 1.6969, 1.6969, 1.6967, 1.6917, 1.6906, 1.6904, 1.6902, 1.6895, 1.6894, 1.6892, 1.6892, 1.6888, 1.6887, 1.6882, 1.6864, 1.686, 1.6858, 1.6857, 1.6853, 1.6833, 1.6824, 1.6804, 1.5688, 1.4626, 1.1388, 1.1063, 1.2943, 1.4591, 0.9801, 0.6921, 0.6476, 0.6393, -0.3389, 0.5737, -1.1379, 1.4222, 1.7965, 1.796, 1.7951, 1.7949, 1.7948, 1.7947, 1.7946, 1.7945, 1.7945, 1.7945, 1.7944, 1.7923, 1.7919, 1.7918, 1.7918, 1.7917, 1.7916, 1.7913, 1.7913, 1.7846, 1.7833, 1.7824, 1.782, 1.7819, 1.7817, 1.7814, 1.7814, 1.7814, 1.7814, 1.7814, 1.6989, 1.7279, 1.6395, 1.533, 1.0263, 0.8724, 1.5936, 1.5913, 0.9561, -0.2542, -0.4928, 0.3318, 1.9539, 1.9513, 1.9508, 1.9501, 1.9498, 1.9497, 1.9479, 1.9477, 1.9477, 1.9475, 1.9473, 1.9466, 1.9462, 1.9431, 1.9429, 1.9426, 1.9422, 1.9393, 1.9384, 1.9376, 1.9363, 1.9362, 1.9347, 1.9336, 1.933, 1.9329, 1.9325, 1.9316, 1.9301, 1.9297, 1.8451, 1.7684, 1.4811, 1.6121, 1.8005, 1.5779, 1.1179, 0.0006, 0.1311, 0.8072, 0.5313, 0.5556, 0.918, -0.1561]}, \"token.table\": {\"Topic\": [1, 1, 2, 5, 1, 1, 1, 2, 3, 3, 4, 1, 3, 2, 5, 2, 2, 1, 1, 2, 3, 1, 4, 2, 4, 5, 2, 5, 3, 3, 3, 1, 2, 4, 1, 2, 3, 4, 5, 5, 2, 5, 2, 2, 5, 1, 5, 4, 3, 1, 4, 1, 3, 4, 4, 2, 5, 1, 2, 5, 5, 5, 2, 1, 1, 3, 5, 2, 5, 5, 4, 2, 1, 1, 1, 3, 1, 4, 1, 2, 3, 5, 1, 1, 4, 1, 2, 3, 4, 3, 2, 3, 4, 1, 3, 1, 3, 3, 2, 2, 3, 2, 3, 2, 4, 5, 4, 1, 3, 3, 5, 3, 1, 5, 3, 2, 5, 1, 3, 4, 3, 4, 1, 3, 4, 4, 1, 4, 5, 3, 4, 5, 3, 1, 2, 5, 2, 3, 2, 2, 2, 5, 1, 3, 1, 5, 1, 2, 3, 5, 1, 4, 5, 1, 2, 2, 2, 2, 1, 2, 1, 4, 5, 4, 3, 4, 1, 2, 5, 1, 3, 4, 4, 2, 5, 1, 5, 5, 2, 4, 1, 4, 4, 4, 2, 3, 4, 4, 1, 5, 5, 3, 5, 2, 1, 1, 5, 2, 1, 4, 4, 2, 3, 3, 5, 1, 5, 4, 2, 5, 4, 3, 2, 3, 4, 2, 3, 5, 1, 2, 3, 3, 3, 2, 4, 5, 2, 5, 1, 1, 2, 3, 4, 5, 5, 1, 4, 5, 3, 1, 4, 1, 5, 2, 3, 5, 1, 2, 3, 3, 4, 2, 5, 1, 2, 3, 5, 1, 3, 4], \"Freq\": [0.9913518026356968, 0.9973565152380449, 0.9936476333207855, 0.9944371440773931, 0.9870071750458438, 0.9893485016624887, 0.21947326605641315, 0.23087447468272035, 0.5501083162193213, 0.9881801263039633, 0.9924861825201473, 0.9940614158137512, 0.9909993518809769, 0.9914973873615321, 0.9705899279876873, 0.9949658619712711, 0.9876774894938796, 0.9925239391354048, 0.9940614158137512, 0.4301170475438808, 0.5681129336308759, 0.9913518026356968, 0.9951382680303622, 0.995260937065125, 0.8137540773462486, 0.18239315526726263, 0.3161267596991164, 0.6849413126814189, 0.9961866981279252, 0.9957796610509275, 0.9937113710016339, 0.9860066994345739, 0.7681085696275793, 0.22902319736602136, 0.3448267382900083, 0.26433404145574124, 0.12968267823298582, 0.1008643052923223, 0.16048852516955717, 0.9855894836217556, 0.9956548069594462, 0.9604094170248485, 0.9831320219813601, 0.9928482322004453, 0.958735829381189, 0.8777460433500418, 0.12031409940000573, 0.9972729027153313, 0.9955511195881344, 0.14233527655804643, 0.8540116593482786, 0.9852755014576826, 0.9885511769502123, 0.9963589105883177, 0.9924861825201473, 0.3772264434190391, 0.6184040056049821, 0.6493257087435168, 0.3496369200926629, 0.9732586321919596, 0.9878004951131599, 0.9671371496176638, 0.9955349874689121, 0.9871799948346013, 0.19155914398545887, 0.09577957199272943, 0.7063743434463795, 0.16065404590324506, 0.8178751427801567, 0.9894133052952592, 0.9964967034129227, 0.9937673996749231, 0.996290163198762, 0.9940614158137512, 0.9914545475999041, 0.9781045639983851, 0.7441086194807128, 0.24803620649357092, 0.9967750820972335, 0.3308052935281241, 0.6616105870562482, 0.9626616084630549, 0.9887703194202953, 0.09155857615183162, 0.9045987323800964, 0.7594827981801104, 0.2351946729848084, 0.9867939197510543, 0.9939178973128411, 0.9919688060456916, 0.5148959857177533, 0.0885842556073554, 0.39493813958279284, 0.989867289686351, 0.9710609957418734, 0.20939934616267666, 0.7835588437054998, 0.9911041141456327, 0.996296353761382, 0.9796055516144145, 0.9934226081877224, 0.996296353761382, 0.9880920471270186, 0.9874904051908128, 0.9924861825201473, 0.9796279536634475, 0.9922354978279109, 0.8594768111318087, 0.13655239055365184, 0.9773282883789549, 0.9897743189243773, 0.9862857851300582, 0.9827263623565581, 0.9786146129248252, 0.989695381317723, 0.9815080769467911, 0.9908828079262711, 0.9910744737032896, 0.9934226081877224, 0.9924861825201473, 0.9901363977773691, 0.9952756158948002, 0.21292089174029263, 0.7844453906221307, 0.994574975471195, 0.996454038291578, 0.9933588583797719, 0.9805378934571399, 0.9581883200299557, 0.9896881206978234, 0.931608743106364, 0.0670758295036582, 0.9817883073890769, 0.6504237765026529, 0.34642135922423906, 0.9881568509486499, 0.6749510534479664, 0.3219949979751766, 0.9957343474252034, 0.9827123467257325, 0.9917320645242202, 0.9892009852880224, 0.8831863385775242, 0.11166723821095133, 0.9875836415269313, 0.9871826280021921, 0.39216524711282447, 0.12425037532287507, 0.48535302860498075, 0.9881744950483153, 0.18463353485932693, 0.8095470374601258, 0.9885089677632961, 0.989312810824688, 0.9928482322004453, 0.9932826069225351, 0.9974141931927665, 0.9953183293007279, 0.9940614158137512, 0.9770116858773028, 0.7164319827667924, 0.07385896729554561, 0.2068051084275277, 0.990765657496746, 0.9810561816045893, 0.9978231996203275, 0.22045554629282926, 0.5324209419902292, 0.24541277794862126, 0.1927906548564266, 0.34395605468703383, 0.46225941107620466, 0.9933911035467157, 0.9931682084925205, 0.9770908214212459, 0.981901340440786, 0.9842397569889172, 0.9823254653116609, 0.993703758599636, 0.997103651537642, 0.22626196821459355, 0.7713476189133871, 0.9924861825201473, 0.9928421552035672, 0.8830296197237362, 0.10596355436684834, 0.9957494553493689, 0.9972024876806757, 0.10612829533434384, 0.8881262609558248, 0.9947016707348654, 0.12220572364213253, 0.8554400654949277, 0.995177650629213, 0.9888642408766509, 0.9830696211060591, 0.9798635188609621, 0.9796055516144145, 0.9935691921079289, 0.9924186939818205, 0.9760573947581275, 0.9928482322004453, 0.9867939197510543, 0.8674156807195141, 0.12047440009993252, 0.9978271368770527, 0.9869913634296357, 0.9886363670163764, 0.5685866537423183, 0.43108530610528706, 0.9965912490672773, 0.9870492503395041, 0.6349549143090372, 0.36410002079259474, 0.9941586639488068, 0.5832004753105846, 0.06400980826579587, 0.3556100459210882, 0.5350057876919178, 0.46246263003877636, 0.9820115252620163, 0.968713418313289, 0.9944377473977022, 0.9925264854708291, 0.9773023679097713, 0.978996811298811, 0.9933338651411329, 0.986611735911987, 0.9982364600246895, 0.5154361172230502, 0.1570580966607632, 0.058254275852355805, 0.12821651891033214, 0.1407811666431932, 0.9939255415827746, 0.3285684534624924, 0.4296664391432593, 0.23830239481895052, 0.9930720171263503, 0.9170663773973371, 0.07642219811644475, 0.9881202876547179, 0.9884005154962123, 0.6030456242281479, 0.3479109370547007, 0.04849667607429162, 0.5716260206961287, 0.4243890153653076, 0.9964570229569354, 0.9879248576240738, 0.9812861148288831, 0.6838568501773736, 0.31521526687863316, 0.6520784883950588, 0.22095221507601168, 0.05568714363704359, 0.07185437888650786, 0.23880393221308505, 0.7562124520081027, 0.9826277147751616], \"Term\": [\"21st\", \"2nd\", \"action\", \"adverse\", \"afternoon\", \"alone\", \"amp\", \"amp\", \"amp\", \"bad\", \"bakarwal\", \"beautiful\", \"benefit\", \"blown\", \"budget\", \"bus\", \"call\", \"capacity\", \"capita\", \"case\", \"case\", \"centre\", \"child\", \"code\", \"community\", \"community\", \"concern\", \"concern\", \"continent\", \"coronavirus\", \"country\", \"coverage\", \"covid\", \"covid\", \"covid19\", \"covid19\", \"covid19\", \"covid19\", \"covid19\", \"covidvaccination\", \"critical\", \"cuban\", \"curb\", \"dailymonitor\", \"danger\", \"day\", \"day\", \"deadly\", \"death\", \"delta\", \"delta\", \"deltavariant\", \"department\", \"desperate\", \"distance\", \"doctor\", \"doctor\", \"dose\", \"dose\", \"dozen\", \"drop\", \"due\", \"easy\", \"effect\", \"effective\", \"effective\", \"effective\", \"efficacy\", \"efficacy\", \"event\", \"expert\", \"failure\", \"fast\", \"fish\", \"flu\", \"folk\", \"free\", \"free\", \"full\", \"fullblown\", \"fullblown\", \"future\", \"global\", \"good\", \"good\", \"government\", \"government\", \"gradual\", \"group\", \"head\", \"health\", \"health\", \"health\", \"help\", \"high\", \"hospital\", \"hospital\", \"hselive\", \"httpstcoammcmmctip\", \"httpstcocemrzeidyr\", \"httpstcocrdhqphfwm\", \"httpstcod2pdwips8o\", \"httpstcoipdmndwmpv\", \"httpstcokudpxpqq22\", \"httpstcosfnnxzfsrv\", \"httpstcoxse61xdkce\", \"httpstcoxsjd4tjile\", \"huge\", \"huge\", \"icu\", \"ill\", \"impact\", \"important\", \"infectious\", \"inpatient\", \"intervention\", \"issue\", \"jab\", \"jrigger\", \"karyakarta\", \"last\", \"leader\", \"less\", \"less\", \"lift\", \"little\", \"lockdown\", \"long\", \"mandate\", \"manner\", \"many\", \"many\", \"market\", \"mask\", \"mask\", \"medical\", \"midst\", \"midst\", \"million\", \"moetitshidi\", \"money\", \"monitoring\", \"more\", \"more\", \"mrna\", \"neighbour\", \"new\", \"new\", \"new\", \"number\", \"old\", \"old\", \"one\", \"order\", \"overstretched\", \"overview\", \"overwhelm\", \"oxygen\", \"pace\", \"palestinian\", \"pandemic\", \"pandemic\", \"pandemic\", \"part\", \"past\", \"patent\", \"patient\", \"patient\", \"patient\", \"people\", \"people\", \"people\", \"place\", \"pleased\", \"pm\", \"politician\", \"possible\", \"potential\", \"ppe\", \"public\", \"question\", \"question\", \"remote\", \"request\", \"response\", \"response\", \"restriction\", \"risk\", \"safe\", \"safe\", \"safety\", \"sarscov2\", \"sarscov2\", \"search\", \"shingle\", \"side\", \"sinovac\", \"sobering\", \"solution\", \"south\", \"staff\", \"stand\", \"street\", \"supply\", \"supply\", \"support\", \"sure\", \"surge\", \"system\", \"system\", \"technology\", \"thing\", \"third\", \"third\", \"threat\", \"time\", \"time\", \"time\", \"today\", \"today\", \"tomorrow\", \"tonight\", \"total\", \"trajectory\", \"travel\", \"trial\", \"urgent\", \"vaccinated\", \"vaccination\", \"vaccine\", \"vaccine\", \"vaccine\", \"vaccine\", \"vaccine\", \"vaer\", \"variant\", \"variant\", \"variant\", \"video\", \"virus\", \"virus\", \"visit\", \"volunteer\", \"wave\", \"wave\", \"wave\", \"way\", \"way\", \"week\", \"whoafro\", \"woman\", \"worker\", \"worker\", \"world\", \"world\", \"world\", \"world\", \"year\", \"year\", \"young\"]}, \"R\": 30, \"lambda.step\": 0.01, \"plot.opts\": {\"xlab\": \"PC1\", \"ylab\": \"PC2\"}, \"topic.order\": [5, 4, 1, 3, 2]};\n",
       "\n",
       "function LDAvis_load_lib(url, callback){\n",
       "  var s = document.createElement('script');\n",
       "  s.src = url;\n",
       "  s.async = true;\n",
       "  s.onreadystatechange = s.onload = callback;\n",
       "  s.onerror = function(){console.warn(\"failed to load library \" + url);};\n",
       "  document.getElementsByTagName(\"head\")[0].appendChild(s);\n",
       "}\n",
       "\n",
       "if(typeof(LDAvis) !== \"undefined\"){\n",
       "   // already loaded: just create the visualization\n",
       "   !function(LDAvis){\n",
       "       new LDAvis(\"#\" + \"ldavis_el245061402742461679043673477220\", ldavis_el245061402742461679043673477220_data);\n",
       "   }(LDAvis);\n",
       "}else if(typeof define === \"function\" && define.amd){\n",
       "   // require.js is available: use it to load d3/LDAvis\n",
       "   require.config({paths: {d3: \"https://d3js.org/d3.v5\"}});\n",
       "   require([\"d3\"], function(d3){\n",
       "      window.d3 = d3;\n",
       "      LDAvis_load_lib(\"https://cdn.jsdelivr.net/gh/bmabey/pyLDAvis@3.3.1/pyLDAvis/js/ldavis.v3.0.0.js\", function(){\n",
       "        new LDAvis(\"#\" + \"ldavis_el245061402742461679043673477220\", ldavis_el245061402742461679043673477220_data);\n",
       "      });\n",
       "    });\n",
       "}else{\n",
       "    // require.js not available: dynamically load d3 & LDAvis\n",
       "    LDAvis_load_lib(\"https://d3js.org/d3.v5.js\", function(){\n",
       "         LDAvis_load_lib(\"https://cdn.jsdelivr.net/gh/bmabey/pyLDAvis@3.3.1/pyLDAvis/js/ldavis.v3.0.0.js\", function(){\n",
       "                 new LDAvis(\"#\" + \"ldavis_el245061402742461679043673477220\", ldavis_el245061402742461679043673477220_data);\n",
       "            })\n",
       "         });\n",
       "}\n",
       "</script>"
      ],
      "text/plain": [
       "PreparedData(topic_coordinates=              x         y  topics  cluster       Freq\n",
       "topic                                                \n",
       "4     -0.014412 -0.169212       1        1  28.576581\n",
       "3      0.156412 -0.047670       2        1  22.613827\n",
       "0      0.204837  0.220581       3        1  18.191637\n",
       "2     -0.293406  0.168198       4        1  16.542594\n",
       "1     -0.053431 -0.171898       5        1  14.075362, topic_info=            Term        Freq       Total Category  logprob  loglift\n",
       "0           case  557.000000  557.000000  Default  30.0000  30.0000\n",
       "266  vaccination  429.000000  429.000000  Default  29.0000  29.0000\n",
       "112         risk  282.000000  282.000000  Default  28.0000  28.0000\n",
       "3          death  264.000000  264.000000  Default  27.0000  27.0000\n",
       "163         dose  660.000000  660.000000  Default  26.0000  26.0000\n",
       "..           ...         ...         ...      ...      ...      ...\n",
       "152       worker   59.055873  187.173675   Topic5  -4.6265   0.8072\n",
       "289      variant   66.318648  276.959030   Topic5  -4.5105   0.5313\n",
       "149      patient   58.982141  240.411280   Topic5  -4.6277   0.5556\n",
       "140         time   49.560190  140.603452   Topic5  -4.8018   0.9180\n",
       "97           day   44.037502  365.709424   Topic5  -4.9199  -0.1561\n",
       "\n",
       "[254 rows x 6 columns], token_table=      Topic      Freq       Term\n",
       "term                            \n",
       "2138      1  0.991352       21st\n",
       "1025      1  0.997357        2nd\n",
       "103       2  0.993648     action\n",
       "334       5  0.994437    adverse\n",
       "216       1  0.987007  afternoon\n",
       "...     ...       ...        ...\n",
       "153       3  0.055687      world\n",
       "153       5  0.071854      world\n",
       "115       1  0.238804       year\n",
       "115       3  0.756212       year\n",
       "357       4  0.982628      young\n",
       "\n",
       "[260 rows x 3 columns], R=30, lambda_step=0.01, plot_opts={'xlab': 'PC1', 'ylab': 'PC2'}, topic_order=[5, 4, 1, 3, 2])"
      ]
     },
     "execution_count": 22,
     "metadata": {},
     "output_type": "execute_result"
    }
   ],
   "source": [
    "pyLDAvis.enable_notebook()\n",
    "LDAvis_prepared = gensimvis.prepare(lda_model, doc_term_matrix, dictionary)\n",
    "LDAvis_prepared"
   ]
  },
  {
   "cell_type": "code",
   "execution_count": 23,
   "metadata": {
    "colab": {
     "base_uri": "https://localhost:8080/"
    },
    "id": "dF_rzJYJPPYd",
    "outputId": "286856bc-b153-48fe-959f-9562c0f1628f"
   },
   "outputs": [
    {
     "name": "stdout",
     "output_type": "stream",
     "text": [
      "\n",
      "Perplexity:  -5.301467557808713\n",
      "\n",
      "Coherence Score:  0.33946659622307157\n"
     ]
    }
   ],
   "source": [
    "print('\\nPerplexity: ', lda_model.log_perplexity(doc_term_matrix,total_docs=10000)) \n",
    "coherence_model_lda = CoherenceModel(model=lda_model, texts=tokenized_reviews, dictionary=dictionary , coherence='c_v')\n",
    "coherence_lda = coherence_model_lda.get_coherence()\n",
    "print('\\nCoherence Score: ', coherence_lda)"
   ]
  },
  {
   "cell_type": "code",
   "execution_count": null,
   "metadata": {},
   "outputs": [],
   "source": []
  },
  {
   "cell_type": "code",
   "execution_count": null,
   "metadata": {},
   "outputs": [],
   "source": []
  },
  {
   "cell_type": "code",
   "execution_count": null,
   "metadata": {},
   "outputs": [],
   "source": []
  }
 ],
 "metadata": {
  "colab": {
   "name": "topic_modeling.ipynb",
   "provenance": []
  },
  "kernelspec": {
   "display_name": "Python 3 (ipykernel)",
   "language": "python",
   "name": "python3"
  },
  "language_info": {
   "codemirror_mode": {
    "name": "ipython",
    "version": 3
   },
   "file_extension": ".py",
   "mimetype": "text/x-python",
   "name": "python",
   "nbconvert_exporter": "python",
   "pygments_lexer": "ipython3",
   "version": "3.8.10"
  }
 },
 "nbformat": 4,
 "nbformat_minor": 1
}
